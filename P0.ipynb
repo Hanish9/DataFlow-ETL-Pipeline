{
 "cells": [
  {
   "cell_type": "code",
   "execution_count": 6,
   "id": "9b42e233-79de-4745-a747-b41c5c7c604e",
   "metadata": {},
   "outputs": [],
   "source": [
    "import pandas as pd"
   ]
  },
  {
   "cell_type": "code",
   "execution_count": 7,
   "id": "d4833919-c462-4aca-ae72-8b4f12d10994",
   "metadata": {},
   "outputs": [],
   "source": [
    "import mysql.connector"
   ]
  },
  {
   "cell_type": "code",
   "execution_count": 8,
   "id": "92887eb2-10d6-4996-9a0d-4317d0f24b3b",
   "metadata": {},
   "outputs": [],
   "source": [
    "def create_database():\n",
    "    # Connect to the default database\n",
    "    conn = mysql.connector.connect(\n",
    "        host=\"127.0.0.1\",  # Updated to match the new connection setup\n",
    "        user=\"root\",\n",
    "        password=\"Hanish@2240\"\n",
    "    )\n",
    "    conn.autocommit = True\n",
    "    cur = conn.cursor()\n",
    "\n",
    "    # Drop and create the p0 database\n",
    "    cur.execute(\"DROP DATABASE IF EXISTS p0\")\n",
    "    cur.execute(\"CREATE DATABASE p0\")\n",
    "\n",
    "    # Close connection to the default database\n",
    "    cur.close()\n",
    "    conn.close()\n",
    "\n",
    "    # Connect to the p0 database\n",
    "    conn = mysql.connector.connect(\n",
    "        host=\"127.0.0.1\",  # Updated to match the new connection setup\n",
    "        user=\"root\",\n",
    "        password=\"Hanish@2240\",\n",
    "        database=\"p0\"\n",
    "    )\n",
    "    cur = conn.cursor()\n",
    "\n",
    "    return cur, conn\n",
    "\n",
    "# Example usage\n",
    "cur, conn = create_database()\n"
   ]
  },
  {
   "cell_type": "code",
   "execution_count": 9,
   "id": "01e494c3-da06-400a-b686-6e129defd0c7",
   "metadata": {},
   "outputs": [],
   "source": [
    "def drop_tables(cur, conn): \n",
    "    for query in drop_table_queries: \n",
    "        cur.execute(query) \n",
    "        conn.commit()"
   ]
  },
  {
   "cell_type": "code",
   "execution_count": 10,
   "id": "bd32643a-a68c-4436-8b98-6e0a4a818d76",
   "metadata": {},
   "outputs": [],
   "source": [
    "def create_tables (cur, conn): \n",
    "    for query in create_table_queries:\n",
    "        cur.execute(query)\n",
    "        conn.commit()"
   ]
  },
  {
   "cell_type": "code",
   "execution_count": 11,
   "id": "b0a7d5d7-d2c4-4339-9dbb-d6f578af621a",
   "metadata": {},
   "outputs": [
    {
     "name": "stdout",
     "output_type": "stream",
     "text": [
      "[{'customer_id': 9780, 'customer_name': 'Jessica Hart', 'country': 'Martinique', 'city': 'South William'}, {'customer_id': 9169, 'customer_name': 'Amy Clark', 'country': 'Kazakhstan', 'city': 'Davisville'}, {'customer_id': 6631, 'customer_name': 'Danielle Elliott', 'country': 'Armenia', 'city': 'East Danny'}, {'customer_id': 8772, 'customer_name': 'Robin Mendoza', 'country': 'Uganda', 'city': 'Johnsonbury'}, {'customer_id': 8913, 'customer_name': 'Abigail Miller', 'country': 'Namibia', 'city': 'Wrightchester'}, {'customer_id': 3211, 'customer_name': 'Jennifer Wright', 'country': 'Zimbabwe', 'city': 'New Erinbury'}, {'customer_id': 1211, 'customer_name': 'Ricky Johnston', 'country': 'Belarus', 'city': 'North Jeremyside'}, {'customer_id': 9529, 'customer_name': 'Brittney Chandler', 'country': 'Andorra', 'city': 'Bellside'}, {'customer_id': 6164, 'customer_name': 'Justin Pittman', 'country': 'Mongolia', 'city': 'Port Rhonda'}, {'customer_id': 3252, 'customer_name': 'Robert Smith', 'country': 'Austria', 'city': 'Tonyaburgh'}, {'customer_id': 9959, 'customer_name': 'Amber Edwards', 'country': 'Indonesia', 'city': 'Joneston'}, {'customer_id': 8820, 'customer_name': 'Larry Mccoy', 'country': 'Greece', 'city': 'Jesuston'}, {'customer_id': 3683, 'customer_name': 'Tyler Parsons DDS', 'country': 'Slovakia (Slovak Republic)', 'city': 'Sanchezburgh'}, {'customer_id': 7488, 'customer_name': 'Monica Kelly', 'country': 'Bangladesh', 'city': 'South Michaelmouth'}, {'customer_id': 2525, 'customer_name': 'Brandon Martin', 'country': 'Kazakhstan', 'city': 'East John'}, {'customer_id': 2289, 'customer_name': 'Christina Mathis', 'country': 'Solomon Islands', 'city': 'Patriciaview'}, {'customer_id': 3540, 'customer_name': 'Mary Davis', 'country': 'Ethiopia', 'city': 'West Joseph'}, {'customer_id': 1217, 'customer_name': 'Denise Ochoa', 'country': 'Sierra Leone', 'city': 'New Paul'}, {'customer_id': 6681, 'customer_name': 'Dale Cannon', 'country': 'Finland', 'city': 'Allisonside'}, {'customer_id': 4336, 'customer_name': 'Russell Harris', 'country': 'Indonesia', 'city': 'North Mauriceshire'}, {'customer_id': 2517, 'customer_name': 'David Booker', 'country': 'Indonesia', 'city': 'Cunninghamfurt'}, {'customer_id': 9966, 'customer_name': 'Carrie Sanders', 'country': 'Morocco', 'city': 'South Ronald'}, {'customer_id': 9205, 'customer_name': 'Emily Ritter', 'country': 'North Macedonia', 'city': 'West Bonnie'}, {'customer_id': 1612, 'customer_name': 'Scott Winters', 'country': 'Saint Kitts and Nevis', 'city': 'Lake Steven'}, {'customer_id': 8916, 'customer_name': 'Phillip Le', 'country': 'Qatar', 'city': 'New Misty'}, {'customer_id': 6871, 'customer_name': 'Chase Stokes', 'country': 'Kyrgyz Republic', 'city': 'West Amanda'}, {'customer_id': 9954, 'customer_name': 'Christopher Allen', 'country': 'Greenland', 'city': 'North John'}, {'customer_id': 7787, 'customer_name': 'Lisa Price', 'country': 'Hong Kong', 'city': 'New Frances'}, {'customer_id': 5766, 'customer_name': 'Leslie Medina', 'country': 'French Guiana', 'city': 'Paulaton'}, {'customer_id': 6353, 'customer_name': 'Timothy Gonzalez', 'country': 'Seychelles', 'city': 'East Donald'}, {'customer_id': 6806, 'customer_name': 'Jill Rivas', 'country': 'Saint Lucia', 'city': 'Millertown'}, {'customer_id': 349, 'customer_name': 'Philip Riggs', 'country': 'Fiji', 'city': 'East Vickimouth'}, {'customer_id': 3062, 'customer_name': 'Rebecca Burgess', 'country': 'Bahrain', 'city': 'Port Robertbury'}, {'customer_id': 6251, 'customer_name': 'Duane Bowen', 'country': 'Australia', 'city': 'East Michael'}, {'customer_id': 8222, 'customer_name': 'April Le', 'country': 'South Africa', 'city': 'Port Amanda'}, {'customer_id': 6014, 'customer_name': 'Hannah Sutton', 'country': 'Ukraine', 'city': 'Jenniferside'}, {'customer_id': 574, 'customer_name': 'Kyle Mendoza', 'country': 'Kiribati', 'city': 'Lindaton'}, {'customer_id': 8794, 'customer_name': 'Jimmy Jackson', 'country': 'Jamaica', 'city': 'South Johnview'}, {'customer_id': 6564, 'customer_name': 'Paula Jacobs', 'country': 'Switzerland', 'city': 'Cooperchester'}, {'customer_id': 2161, 'customer_name': 'Penny Love', 'country': 'Samoa', 'city': 'Johnsonland'}, {'customer_id': 9708, 'customer_name': 'Erika Knox', 'country': 'North Macedonia', 'city': 'Brownchester'}, {'customer_id': 2845, 'customer_name': 'Mr. Michael Robertson', 'country': 'Guernsey', 'city': 'Stricklandstad'}, {'customer_id': 5294, 'customer_name': 'Natasha Irwin', 'country': 'Dominica', 'city': 'Lake Deanna'}, {'customer_id': 6911, 'customer_name': 'Samantha Bradley', 'country': 'Iceland', 'city': 'Jenniferberg'}, {'customer_id': 7185, 'customer_name': 'Robert Dorsey', 'country': 'Cocos (Keeling) Islands', 'city': 'Perezmouth'}, {'customer_id': 4505, 'customer_name': 'William Boone', 'country': \"Cote d'Ivoire\", 'city': 'North Jacqueline'}, {'customer_id': 6216, 'customer_name': 'Jamie Lawson', 'country': 'Saint Barthelemy', 'city': 'Robertsbury'}, {'customer_id': 3159, 'customer_name': 'Mr. Michael Martin', 'country': 'Ukraine', 'city': 'Woodside'}, {'customer_id': 3085, 'customer_name': 'Ronald Peterson', 'country': 'Andorra', 'city': 'New Jasmine'}, {'customer_id': 2302, 'customer_name': 'Donald Marquez', 'country': 'United Kingdom', 'city': 'Brianbury'}, {'customer_id': 7167, 'customer_name': 'Veronica Steele', 'country': 'Georgia', 'city': 'West David'}, {'customer_id': 3021, 'customer_name': 'Katelyn Bennett', 'country': 'Slovenia', 'city': 'Ambermouth'}, {'customer_id': 8006, 'customer_name': 'Christina Jackson', 'country': 'Azerbaijan', 'city': 'Morganside'}, {'customer_id': 8158, 'customer_name': 'Mary Adams', 'country': 'Cocos (Keeling) Islands', 'city': 'Port Christineport'}, {'customer_id': 2403, 'customer_name': 'Carol Reyes', 'country': 'Zimbabwe', 'city': 'Lake Philip'}, {'customer_id': 3864, 'customer_name': 'Michelle Harrington', 'country': 'Jordan', 'city': 'East Samanthamouth'}, {'customer_id': 3834, 'customer_name': 'Michael Guerra', 'country': 'Gambia', 'city': 'Ramirezport'}, {'customer_id': 8304, 'customer_name': 'Aaron Chavez', 'country': 'Azerbaijan', 'city': 'North Omarside'}, {'customer_id': 6371, 'customer_name': 'Nicholas Odonnell', 'country': 'Niger', 'city': 'Port Timothy'}, {'customer_id': 2948, 'customer_name': 'Katherine Mcintyre', 'country': 'Monaco', 'city': 'Erikaborough'}, {'customer_id': 746, 'customer_name': 'Shannon Carroll', 'country': 'Mozambique', 'city': 'Thomasshire'}, {'customer_id': 6232, 'customer_name': 'Stephanie Spears', 'country': 'Morocco', 'city': 'Port Sean'}, {'customer_id': 1528, 'customer_name': 'Cynthia Schmidt', 'country': 'Saint Pierre and Miquelon', 'city': 'West William'}, {'customer_id': 4339, 'customer_name': 'Roy Murphy', 'country': 'Seychelles', 'city': 'Gardnerberg'}, {'customer_id': 274, 'customer_name': 'Theresa Hicks', 'country': 'Netherlands Antilles', 'city': 'West Patriciaberg'}, {'customer_id': 4274, 'customer_name': 'Jessica Andrews', 'country': 'Algeria', 'city': 'West Gabriellaton'}, {'customer_id': 5869, 'customer_name': 'Leonard Scott', 'country': 'Korea', 'city': 'East Dylan'}, {'customer_id': 7771, 'customer_name': 'Bryan Washington', 'country': 'Hong Kong', 'city': 'New Michaelfurt'}, {'customer_id': 6212, 'customer_name': 'Stephen Flynn', 'country': 'Tanzania', 'city': 'West Jessica'}, {'customer_id': 1891, 'customer_name': 'Mrs. Melinda Garcia', 'country': 'Cayman Islands', 'city': 'New Timothymouth'}, {'customer_id': 4056, 'customer_name': 'Dorothy Hill', 'country': 'Congo', 'city': 'Jennaberg'}, {'customer_id': 462, 'customer_name': 'Kathleen Fitzgerald', 'country': 'Nigeria', 'city': 'Port Daniel'}, {'customer_id': 9304, 'customer_name': 'Katherine Bradshaw', 'country': 'Denmark', 'city': 'South Christopherfort'}, {'customer_id': 2987, 'customer_name': 'Dawn Wolfe', 'country': 'Qatar', 'city': 'Crawfordton'}, {'customer_id': 3140, 'customer_name': 'Michael Steele', 'country': 'Guinea', 'city': 'East Susan'}, {'customer_id': 2946, 'customer_name': 'Jacob Newman', 'country': 'Cambodia', 'city': 'Thomasbury'}, {'customer_id': 5390, 'customer_name': 'Rachel Shelton', 'country': 'Armenia', 'city': 'Lake Jessica'}, {'customer_id': 2326, 'customer_name': 'Daniel Edwards', 'country': 'United Kingdom', 'city': 'Jameschester'}, {'customer_id': 9009, 'customer_name': 'James Mccarthy', 'country': 'Belarus', 'city': 'East Davidport'}, {'customer_id': 3534, 'customer_name': 'Kenneth Parrish', 'country': 'Honduras', 'city': 'Lake Valerieville'}, {'customer_id': 1892, 'customer_name': 'Madison Black', 'country': 'Mali', 'city': 'Suzanneville'}, {'customer_id': 2361, 'customer_name': 'Steven Navarro', 'country': 'Spain', 'city': 'North Kim'}, {'customer_id': 873, 'customer_name': 'Sally Johnson', 'country': 'Venezuela', 'city': 'West Danielville'}, {'customer_id': 9608, 'customer_name': 'Thomas Moore', 'country': 'Singapore', 'city': 'Ericton'}, {'customer_id': 3585, 'customer_name': 'Frank Turner', 'country': 'India', 'city': 'Kennethport'}, {'customer_id': 4024, 'customer_name': 'Carl Rios', 'country': 'Nigeria', 'city': 'Port Brian'}, {'customer_id': 6638, 'customer_name': 'Jennifer James', 'country': 'Moldova', 'city': 'Moorefort'}, {'customer_id': 8052, 'customer_name': 'Felicia Hicks', 'country': 'Equatorial Guinea', 'city': 'Amyfort'}, {'customer_id': 1670, 'customer_name': 'Jessica Lyons', 'country': 'Thailand', 'city': 'Dawnborough'}, {'customer_id': 2757, 'customer_name': 'Dustin Conner', 'country': 'Iceland', 'city': 'Dannyfurt'}, {'customer_id': 5628, 'customer_name': 'Tonya Vasquez', 'country': 'Oman', 'city': 'Kimmouth'}, {'customer_id': 3283, 'customer_name': 'Mason Perkins', 'country': 'Djibouti', 'city': 'Brownberg'}, {'customer_id': 3199, 'customer_name': 'Amy Thompson', 'country': 'Namibia', 'city': 'New Tanyahaven'}, {'customer_id': 1542, 'customer_name': 'Meagan Villa', 'country': 'Uruguay', 'city': 'Lake Jeffreymouth'}, {'customer_id': 7936, 'customer_name': 'Bryce Carter', 'country': 'Mali', 'city': 'Port Christopher'}, {'customer_id': 1547, 'customer_name': 'Misty Rice', 'country': 'Solomon Islands', 'city': 'West Kellyton'}, {'customer_id': 9511, 'customer_name': 'Tracy Hunt', 'country': \"Cote d'Ivoire\", 'city': 'Kristachester'}, {'customer_id': 2009, 'customer_name': 'Jordan Cox', 'country': 'Antarctica (the territory South of 60 deg S)', 'city': 'Davidport'}, {'customer_id': 8325, 'customer_name': 'Brad Clark', 'country': 'Gambia', 'city': 'New Chad'}, {'customer_id': 6132, 'customer_name': 'Andrea Larson', 'country': 'Sierra Leone', 'city': 'Ronaldmouth'}, {'customer_id': 1592, 'customer_name': 'Monica Roberts', 'country': 'Fiji', 'city': 'Hollymouth'}, {'customer_id': 9099, 'customer_name': 'Carolyn Baker', 'country': 'Denmark', 'city': 'Alexton'}, {'customer_id': 6486, 'customer_name': 'Danielle Reyes', 'country': 'Angola', 'city': 'New Anthonyshire'}, {'customer_id': 1386, 'customer_name': 'Joseph Ochoa', 'country': 'North Macedonia', 'city': 'North Andreachester'}, {'customer_id': 2425, 'customer_name': 'Crystal Lindsey', 'country': 'South Georgia and the South Sandwich Islands', 'city': 'Douglasbury'}, {'customer_id': 1074, 'customer_name': 'Gabriela Bishop', 'country': 'Andorra', 'city': 'West Alexisstad'}, {'customer_id': 2272, 'customer_name': 'Brenda Snyder', 'country': 'Zambia', 'city': 'Lake Jennifer'}, {'customer_id': 5482, 'customer_name': 'John Parker', 'country': 'Sweden', 'city': 'Wilsonmouth'}, {'customer_id': 9920, 'customer_name': 'Mary Martin', 'country': 'North Macedonia', 'city': 'Port Michael'}, {'customer_id': 9465, 'customer_name': 'Jessica Caldwell', 'country': 'Singapore', 'city': 'Stevenston'}, {'customer_id': 2726, 'customer_name': 'Erin Gray', 'country': 'Niue', 'city': 'Lake Erin'}, {'customer_id': 5003, 'customer_name': 'Timothy Dixon', 'country': 'Sri Lanka', 'city': 'East Monica'}, {'customer_id': 1479, 'customer_name': 'Keith Mccall', 'country': 'Faroe Islands', 'city': 'Tristantown'}, {'customer_id': 7358, 'customer_name': 'Deanna Garcia', 'country': 'Norfolk Island', 'city': 'Royborough'}, {'customer_id': 9889, 'customer_name': 'David Campbell', 'country': 'Malaysia', 'city': 'Smithton'}, {'customer_id': 5649, 'customer_name': 'Michael Ponce', 'country': 'Dominica', 'city': 'Jesseville'}, {'customer_id': 6725, 'customer_name': 'Erika Alexander', 'country': 'Guinea', 'city': 'Salazarton'}, {'customer_id': 9329, 'customer_name': 'Lauren Morales', 'country': 'United Arab Emirates', 'city': 'Andersonberg'}, {'customer_id': 3990, 'customer_name': 'Joshua Brooks', 'country': 'French Southern Territories', 'city': 'Lake Cherylport'}, {'customer_id': 2144, 'customer_name': 'Rebecca Wilson', 'country': 'Montserrat', 'city': 'Jackieside'}, {'customer_id': 8096, 'customer_name': 'James Stevenson', 'country': 'Comoros', 'city': 'Coxmouth'}, {'customer_id': 8233, 'customer_name': 'Jason Diaz', 'country': 'French Southern Territories', 'city': 'Hannahport'}, {'customer_id': 770, 'customer_name': 'Travis Mullins', 'country': 'Mongolia', 'city': 'Joshuaville'}, {'customer_id': 903, 'customer_name': 'Cheryl Williams', 'country': 'Oman', 'city': 'Lake Debraton'}, {'customer_id': 8387, 'customer_name': 'Sarah Bailey', 'country': 'Pakistan', 'city': 'New Michaelstad'}, {'customer_id': 6428, 'customer_name': 'Joshua Lynch', 'country': 'Hong Kong', 'city': 'New Samuel'}, {'customer_id': 9052, 'customer_name': 'David House', 'country': 'Algeria', 'city': 'Lake Rebecca'}, {'customer_id': 6945, 'customer_name': 'William Clark', 'country': 'Papua New Guinea', 'city': 'Smithfurt'}, {'customer_id': 4359, 'customer_name': 'Scott Schneider', 'country': 'Argentina', 'city': 'New Jacobmouth'}, {'customer_id': 8601, 'customer_name': 'Anthony Rogers', 'country': 'Sierra Leone', 'city': 'South Corey'}, {'customer_id': 7513, 'customer_name': 'Amy Chen', 'country': 'Mali', 'city': 'Stephanieview'}, {'customer_id': 5822, 'customer_name': 'Lindsey Smith', 'country': 'Chad', 'city': 'South Ricky'}, {'customer_id': 6902, 'customer_name': 'Robin Barnes', 'country': 'New Caledonia', 'city': 'Garzafort'}, {'customer_id': 5433, 'customer_name': 'Jennifer Brown', 'country': 'Moldova', 'city': 'Jeffreyberg'}, {'customer_id': 4218, 'customer_name': 'Kathleen Osborne', 'country': 'Saint Kitts and Nevis', 'city': 'East Kennethmouth'}, {'customer_id': 3621, 'customer_name': 'Peter Walker', 'country': 'Trinidad and Tobago', 'city': 'New Timothyton'}, {'customer_id': 3492, 'customer_name': 'Jacob Reyes', 'country': 'Liechtenstein', 'city': 'North Bill'}, {'customer_id': 6797, 'customer_name': 'Anna Brown', 'country': 'Austria', 'city': 'Lisachester'}, {'customer_id': 3767, 'customer_name': 'Victor Hansen', 'country': 'Guatemala', 'city': 'North Mark'}, {'customer_id': 521, 'customer_name': 'Margaret Ward', 'country': 'Belarus', 'city': 'South Frederick'}, {'customer_id': 6078, 'customer_name': 'Brenda Smith', 'country': 'Guernsey', 'city': 'Saratown'}, {'customer_id': 4071, 'customer_name': 'Breanna Torres', 'country': 'Senegal', 'city': 'South Monica'}, {'customer_id': 7551, 'customer_name': 'Douglas Kent', 'country': 'Greenland', 'city': 'New Mariomouth'}, {'customer_id': 7861, 'customer_name': 'Marissa Irwin DDS', 'country': 'Cameroon', 'city': 'Lake Jennifer'}, {'customer_id': 9815, 'customer_name': 'Jessica Flowers', 'country': 'North Macedonia', 'city': 'Jessicaland'}, {'customer_id': 2271, 'customer_name': 'Makayla Elliott', 'country': 'Timor-Leste', 'city': 'Lake Scottton'}, {'customer_id': 2887, 'customer_name': 'Mark Richardson', 'country': 'Saint Barthelemy', 'city': 'Hillberg'}, {'customer_id': 3878, 'customer_name': 'Kayla Moore', 'country': 'Papua New Guinea', 'city': 'Mirandaview'}, {'customer_id': 2903, 'customer_name': 'Terry Sanchez', 'country': 'New Caledonia', 'city': 'Dianechester'}, {'customer_id': 6426, 'customer_name': 'Melanie Lee', 'country': 'Macao', 'city': 'Port Shelialand'}, {'customer_id': 9269, 'customer_name': 'Gina Richards', 'country': 'United States Minor Outlying Islands', 'city': 'East Lauren'}, {'customer_id': 3927, 'customer_name': 'Valerie Aguilar', 'country': 'Spain', 'city': 'Johnhaven'}, {'customer_id': 2510, 'customer_name': 'Kelly Gordon', 'country': 'Namibia', 'city': 'Port Michaelville'}, {'customer_id': 1194, 'customer_name': 'Matthew Smith', 'country': 'Sierra Leone', 'city': 'North Jacobmouth'}, {'customer_id': 666, 'customer_name': 'Christopher Carroll', 'country': 'Kazakhstan', 'city': 'North Michelle'}, {'customer_id': 815, 'customer_name': 'Steven Sullivan', 'country': 'Azerbaijan', 'city': 'Lake Jon'}, {'customer_id': 8954, 'customer_name': 'Courtney Phillips MD', 'country': 'Malawi', 'city': 'Davidshire'}, {'customer_id': 8718, 'customer_name': 'Charles Holland', 'country': 'Panama', 'city': 'New Cynthiastad'}, {'customer_id': 8102, 'customer_name': 'David Smith', 'country': 'Portugal', 'city': 'Lake Carl'}, {'customer_id': 7182, 'customer_name': 'Joshua Lee', 'country': 'Germany', 'city': 'Raymondfurt'}, {'customer_id': 4956, 'customer_name': 'Jordan Brown', 'country': 'United Arab Emirates', 'city': 'Donaldview'}, {'customer_id': 8109, 'customer_name': 'Angela Ray', 'country': 'Barbados', 'city': 'Petersonberg'}, {'customer_id': 2225, 'customer_name': 'Lynn Riley', 'country': 'Burundi', 'city': 'Kingborough'}, {'customer_id': 4469, 'customer_name': 'Sherry Hanna', 'country': 'Italy', 'city': 'North Dawn'}, {'customer_id': 3858, 'customer_name': 'Samantha Ray', 'country': 'Bolivia', 'city': 'New Jacobville'}, {'customer_id': 7244, 'customer_name': 'Paul Curtis', 'country': 'India', 'city': 'Bethstad'}, {'customer_id': 925, 'customer_name': 'Jeffrey Moore', 'country': 'Ireland', 'city': 'Williamschester'}, {'customer_id': 4202, 'customer_name': 'Steven Powers', 'country': 'Zimbabwe', 'city': 'East Jamesmouth'}, {'customer_id': 1429, 'customer_name': 'Jenny Thomas', 'country': 'Lebanon', 'city': 'Lake Jonathanton'}, {'customer_id': 2241, 'customer_name': 'Linda Padilla', 'country': 'Poland', 'city': 'Lake Maria'}, {'customer_id': 8805, 'customer_name': 'David Grant', 'country': 'Cuba', 'city': 'West Bonnieborough'}, {'customer_id': 5594, 'customer_name': 'Nicole Wilson', 'country': 'Israel', 'city': 'Bryantview'}, {'customer_id': 2365, 'customer_name': 'Jessica Morris', 'country': 'Tunisia', 'city': 'East Christinaside'}, {'customer_id': 5684, 'customer_name': 'Gabriela Medina', 'country': \"Cote d'Ivoire\", 'city': 'Scottfurt'}, {'customer_id': 3461, 'customer_name': 'Deanna Alvarado', 'country': 'Azerbaijan', 'city': 'Johnsonstad'}, {'customer_id': 1557, 'customer_name': 'Amanda Wilson', 'country': 'Heard Island and McDonald Islands', 'city': 'West Dylan'}, {'customer_id': 5487, 'customer_name': 'Emily Case', 'country': 'Ecuador', 'city': 'East Rodneyfort'}, {'customer_id': 1298, 'customer_name': 'Timothy Murray', 'country': 'Trinidad and Tobago', 'city': 'Samanthaville'}, {'customer_id': 3500, 'customer_name': 'Kimberly Humphrey', 'country': 'Micronesia', 'city': 'Chandlershire'}, {'customer_id': 3048, 'customer_name': 'Joshua Garcia', 'country': 'Chile', 'city': 'Thomasstad'}, {'customer_id': 5688, 'customer_name': 'Justin Davis', 'country': 'Marshall Islands', 'city': 'North Katieshire'}, {'customer_id': 8226, 'customer_name': 'Jorge Miller', 'country': 'Singapore', 'city': 'North Tamara'}, {'customer_id': 2692, 'customer_name': 'Jennifer Reyes', 'country': 'Svalbard & Jan Mayen Islands', 'city': 'East Lynnburgh'}, {'customer_id': 2455, 'customer_name': 'Samuel White', 'country': 'Slovakia (Slovak Republic)', 'city': 'Kathrynmouth'}, {'customer_id': 8088, 'customer_name': 'Teresa Johnson', 'country': 'Tajikistan', 'city': 'Lawrenceburgh'}, {'customer_id': 1078, 'customer_name': 'Joshua Stone', 'country': 'Sierra Leone', 'city': 'South Danielfurt'}, {'customer_id': 106, 'customer_name': 'Mr. James Mendez', 'country': 'British Indian Ocean Territory (Chagos Archipelago)', 'city': 'Paulmouth'}, {'customer_id': 4617, 'customer_name': 'Susan Reid', 'country': 'Svalbard & Jan Mayen Islands', 'city': 'Mollytown'}, {'customer_id': 4395, 'customer_name': 'Hailey Griffin', 'country': 'Kenya', 'city': 'West Angelaburgh'}, {'customer_id': 7619, 'customer_name': 'Christopher Holmes', 'country': 'Monaco', 'city': 'Lake Kenneth'}, {'customer_id': 8781, 'customer_name': 'Toni Oconnor', 'country': 'Tuvalu', 'city': 'South Aprilburgh'}, {'customer_id': 4796, 'customer_name': 'Mary Sparks', 'country': 'Latvia', 'city': 'East Curtis'}, {'customer_id': 231, 'customer_name': 'Crystal Stewart', 'country': 'Cook Islands', 'city': 'Greggville'}, {'customer_id': 8048, 'customer_name': 'Jacob Porter', 'country': 'Svalbard & Jan Mayen Islands', 'city': 'New Maryton'}, {'customer_id': 7412, 'customer_name': 'Matthew Huynh', 'country': 'Bulgaria', 'city': 'West Saraborough'}, {'customer_id': 5328, 'customer_name': 'Gary Pineda', 'country': 'Brazil', 'city': 'East Dawnland'}, {'customer_id': 7163, 'customer_name': 'Jeremy Davis', 'country': 'British Indian Ocean Territory (Chagos Archipelago)', 'city': 'Port Thomashaven'}, {'customer_id': 7568, 'customer_name': 'Danielle Patel', 'country': 'Netherlands', 'city': 'Derekmouth'}, {'customer_id': 1563, 'customer_name': 'Cheryl Jones', 'country': 'Togo', 'city': 'Rebeccaport'}, {'customer_id': 8412, 'customer_name': 'Gabrielle Garcia', 'country': 'Netherlands', 'city': 'Cunninghammouth'}]\n"
     ]
    }
   ],
   "source": [
    "import json\n",
    "\n",
    "with open('customers.json', 'r') as file:\n",
    "    data = json.load(file)\n",
    "\n",
    "print(data[:200])"
   ]
  },
  {
   "cell_type": "code",
   "execution_count": 12,
   "id": "a544945f-1913-40f0-a1b6-130ede80c383",
   "metadata": {},
   "outputs": [
    {
     "name": "stdout",
     "output_type": "stream",
     "text": [
      "[{'order_id': 1, 'customer_id': 1731, 'product_id': 8609, 'product_name': 'Central home & kitche', 'product_category': 'Home & Kitchen', 'payment_type': 'Wallet', 'qty': 25, 'price': 64216, 'datetime': '2021-07-26T20:16:14', 'ecommerce_website_name': 'www.bestbuy.com', 'payment_txn_id': 'a395e8c7', 'payment_txn_success': 'N', 'failure_reason': 'Card Expired'}, {'order_id': 2, 'customer_id': 5539, 'product_id': 2409, 'product_name': 'Upon sport', 'product_category': 'Sports', 'payment_type': 'Card', 'qty': 34, 'price': 69877, 'datetime': '2021-08-25T03:41:32', 'ecommerce_website_name': 'www.flipkart.com', 'payment_txn_id': 'b40791f8', 'payment_txn_success': 'N', 'failure_reason': 'Invalid CVV'}, {'order_id': 3, 'customer_id': 3507, 'product_id': 1145, 'product_name': 'Across stationer', 'product_category': 'Stationery', 'payment_type': 'Card', 'qty': 28, 'price': 35491, 'datetime': '2024-06-21T21:39:21', 'ecommerce_website_name': 'www.target.com', 'payment_txn_id': '7fb6cca9', 'payment_txn_success': 'N', 'failure_reason': 'Blocked Card'}, {'order_id': 4, 'customer_id': 4826, 'product_id': 8375, 'product_name': 'Start home & kitche', 'product_category': 'Home & Kitchen', 'payment_type': 'Card', 'qty': 33, 'price': 39540, 'datetime': '2022-09-17T13:52:11', 'ecommerce_website_name': 'www.amazon.in', 'payment_txn_id': 'cae677f3', 'payment_txn_success': 'N', 'failure_reason': 'Transaction Timeout'}, {'order_id': 5, 'customer_id': 6538, 'product_id': 2149, 'product_name': 'Draw beaut', 'product_category': 'Beauty', 'payment_type': 'Card', 'qty': 27, 'price': 80635, 'datetime': '2022-03-09T07:58:08', 'ecommerce_website_name': 'www.etsy.com', 'payment_txn_id': 'fbce1649', 'payment_txn_success': 'N', 'failure_reason': 'Invalid CVV'}, {'order_id': 6, 'customer_id': 9648, 'product_id': 9729, 'product_name': 'Growth beaut', 'product_category': 'Beauty', 'payment_type': 'UPI', 'qty': 44, 'price': 62844, 'datetime': '2024-05-29T15:37:37', 'ecommerce_website_name': 'www.amazon.in', 'payment_txn_id': 'ebc84512', 'payment_txn_success': 'Y', 'failure_reason': ''}, {'order_id': 7, 'customer_id': 7940, 'product_id': 453, 'product_name': 'Lose furnitur', 'product_category': 'Furniture', 'payment_type': 'Wallet', 'qty': 28, 'price': 21742, 'datetime': '2024-02-11T15:12:49', 'ecommerce_website_name': 'www.amazon.com', 'payment_txn_id': 'e407cea7', 'payment_txn_success': 'N', 'failure_reason': 'Invalid CVV'}, {'order_id': 8, 'customer_id': 5798, 'product_id': 4640, 'product_name': 'Vote grocerie', 'product_category': 'Groceries', 'payment_type': 'Internet Banking', 'qty': 15, 'price': 54154, 'datetime': '2022-10-23T23:37:42', 'ecommerce_website_name': 'www.walmart.com', 'payment_txn_id': '048ee87d', 'payment_txn_success': 'N', 'failure_reason': 'Card Expired'}, {'order_id': 9, 'customer_id': 5539, 'product_id': 693, 'product_name': 'Region beaut', 'product_category': 'Beauty', 'payment_type': 'Wallet', 'qty': 16, 'price': 67395, 'datetime': '2021-07-29T23:16:11', 'ecommerce_website_name': 'www.tatacliq.com', 'payment_txn_id': 'fa29f46d', 'payment_txn_success': 'N', 'failure_reason': 'Transaction Timeout'}, {'order_id': 10, 'customer_id': 3937, 'product_id': 9612, 'product_name': 'Interview grocerie', 'product_category': 'Groceries', 'payment_type': 'Wallet', 'qty': 17, 'price': 12844, 'datetime': '2023-10-16T18:12:20', 'ecommerce_website_name': 'www.amazon.com', 'payment_txn_id': 'ef2606ef', 'payment_txn_success': 'Y', 'failure_reason': ''}, {'order_id': 11, 'customer_id': 8381, 'product_id': 1040, 'product_name': 'Main book', 'product_category': 'Books', 'payment_type': 'Internet Banking', 'qty': 45, 'price': 82900, 'datetime': '2024-03-24T09:37:57', 'ecommerce_website_name': 'www.tatacliq.com', 'payment_txn_id': '91a1e4b0', 'payment_txn_success': 'N', 'failure_reason': 'Transaction Timeout'}, {'order_id': 12, 'customer_id': 4908, 'product_id': 7910, 'product_name': 'None stationer', 'product_category': 'Stationery', 'payment_type': 'Card', 'qty': 14, 'price': 72013, 'datetime': '2021-09-13T04:46:09', 'ecommerce_website_name': 'www.amazon.com', 'payment_txn_id': 'dfb9c9bd', 'payment_txn_success': 'N', 'failure_reason': 'Invalid CVV'}, {'order_id': 13, 'customer_id': 4519, 'product_id': 7315, 'product_name': 'Item home & kitche', 'product_category': 'Home & Kitchen', 'payment_type': 'UPI', 'qty': 43, 'price': 41769, 'datetime': '2022-08-27T14:50:41', 'ecommerce_website_name': 'www.bestbuy.com', 'payment_txn_id': 'd042ca46', 'payment_txn_success': 'N', 'failure_reason': 'Transaction Timeout'}, {'order_id': 14, 'customer_id': 7276, 'product_id': 7765, 'product_name': 'Indicate toy', 'product_category': 'Toys', 'payment_type': 'Internet Banking', 'qty': 37, 'price': 72144, 'datetime': '2021-10-03T17:28:41', 'ecommerce_website_name': 'www.walmart.com', 'payment_txn_id': '0bce3e97', 'payment_txn_success': 'N', 'failure_reason': 'Transaction Timeout'}, {'order_id': 15, 'customer_id': 5539, 'product_id': 6602, 'product_name': 'Performance furnitur', 'product_category': 'Furniture', 'payment_type': 'Card', 'qty': 42, 'price': 14938, 'datetime': '2024-07-19T11:31:46', 'ecommerce_website_name': 'www.alibaba.com', 'payment_txn_id': '8a2e9692', 'payment_txn_success': 'Y', 'failure_reason': ''}, {'order_id': 16, 'customer_id': 9252, 'product_id': 4217, 'product_name': 'How clothin', 'product_category': 'Clothing', 'payment_type': 'Internet Banking', 'qty': 18, 'price': 50679, 'datetime': '2023-03-05T15:21:17', 'ecommerce_website_name': 'www.etsy.com', 'payment_txn_id': '973d7e58', 'payment_txn_success': 'N', 'failure_reason': 'Invalid CVV'}, {'order_id': 17, 'customer_id': 5494, 'product_id': 9625, 'product_name': 'Various beaut', 'product_category': 'Beauty', 'payment_type': 'UPI', 'qty': 44, 'price': 11245, 'datetime': '2022-10-09T19:17:46', 'ecommerce_website_name': 'www.target.com', 'payment_txn_id': '068b3832', 'payment_txn_success': 'Y', 'failure_reason': ''}, {'order_id': 18, 'customer_id': 5494, 'product_id': 8266, 'product_name': 'Face book', 'product_category': 'Books', 'payment_type': 'Wallet', 'qty': 4, 'price': 35054, 'datetime': '2021-10-29T13:24:08', 'ecommerce_website_name': 'www.alibaba.com', 'payment_txn_id': '479d1981', 'payment_txn_success': 'Y', 'failure_reason': ''}, {'order_id': 19, 'customer_id': 8381, 'product_id': 9610, 'product_name': 'Sometimes grocerie', 'product_category': 'Groceries', 'payment_type': 'UPI', 'qty': 20, 'price': 22313, 'datetime': '2024-06-09T05:35:08', 'ecommerce_website_name': 'www.ebay.in', 'payment_txn_id': 'fe2bc1b6', 'payment_txn_success': 'N', 'failure_reason': 'Card Expired'}, {'order_id': 20, 'customer_id': 1360, 'product_id': 7506, 'product_name': 'Seven grocerie', 'product_category': 'Groceries', 'payment_type': 'Card', 'qty': 14, 'price': 91339, 'datetime': '2024-07-04T04:30:03', 'ecommerce_website_name': 'www.ebay.in', 'payment_txn_id': '82174615', 'payment_txn_success': 'N', 'failure_reason': 'Insufficient Funds'}, {'order_id': 21, 'customer_id': 5298, 'product_id': 7120, 'product_name': 'Open sport', 'product_category': 'Sports', 'payment_type': 'Wallet', 'qty': 2, 'price': 90348, 'datetime': '2024-03-16T17:23:08', 'ecommerce_website_name': 'www.tatacliq.com', 'payment_txn_id': 'c655cfcc', 'payment_txn_success': 'N', 'failure_reason': 'Insufficient Funds'}, {'order_id': 22, 'customer_id': 3502, 'product_id': 438, 'product_name': 'These grocerie', 'product_category': 'Groceries', 'payment_type': 'Card', 'qty': 13, 'price': 26015, 'datetime': '2021-07-29T19:37:22', 'ecommerce_website_name': 'www.amazon.com', 'payment_txn_id': '8c2eaefe', 'payment_txn_success': 'Y', 'failure_reason': ''}, {'order_id': 23, 'customer_id': 6849, 'product_id': 8130, 'product_name': 'Present sport', 'product_category': 'Sports', 'payment_type': 'UPI', 'qty': 39, 'price': 45852, 'datetime': '2024-04-11T23:21:54', 'ecommerce_website_name': 'www.bestbuy.com', 'payment_txn_id': 'fe0c7c0d', 'payment_txn_success': 'N', 'failure_reason': 'Card Expired'}, {'order_id': 24, 'customer_id': 7309, 'product_id': 5493, 'product_name': 'People sport', 'product_category': 'Sports', 'payment_type': 'Internet Banking', 'qty': 17, 'price': 44059, 'datetime': '2021-12-05T08:43:26', 'ecommerce_website_name': 'www.walmart.com', 'payment_txn_id': '34f06bba', 'payment_txn_success': 'N', 'failure_reason': 'Card Expired'}, {'order_id': 25, 'customer_id': 1488, 'product_id': 7380, 'product_name': 'Morning book', 'product_category': 'Books', 'payment_type': 'Wallet', 'qty': 20, 'price': 18642, 'datetime': '2021-07-25T22:44:55', 'ecommerce_website_name': 'www.alibaba.com', 'payment_txn_id': 'edd6d58a', 'payment_txn_success': 'Y', 'failure_reason': ''}, {'order_id': 26, 'customer_id': 3502, 'product_id': 9661, 'product_name': 'For electronic', 'product_category': 'Electronics', 'payment_type': 'Card', 'qty': 15, 'price': 47890, 'datetime': '2024-05-10T18:25:33', 'ecommerce_website_name': 'www.alibaba.com', 'payment_txn_id': '8e576f0b', 'payment_txn_success': 'N', 'failure_reason': 'Blocked Card'}, {'order_id': 27, 'customer_id': 1412, 'product_id': 4683, 'product_name': 'Method clothin', 'product_category': 'Clothing', 'payment_type': 'UPI', 'qty': 35, 'price': 75800, 'datetime': '2024-01-26T15:19:59', 'ecommerce_website_name': 'www.tatacliq.com', 'payment_txn_id': '736e3d6a', 'payment_txn_success': 'Y', 'failure_reason': ''}, {'order_id': 28, 'customer_id': 8381, 'product_id': 4132, 'product_name': 'Meet clothin', 'product_category': 'Clothing', 'payment_type': 'Wallet', 'qty': 8, 'price': 78731, 'datetime': '2023-03-07T06:20:24', 'ecommerce_website_name': 'www.target.com', 'payment_txn_id': '5c576962', 'payment_txn_success': 'N', 'failure_reason': 'Blocked Card'}, {'order_id': 29, 'customer_id': 4810, 'product_id': 8392, 'product_name': 'Rich electronic', 'product_category': 'Electronics', 'payment_type': 'Card', 'qty': 39, 'price': 56172, 'datetime': '2024-03-02T19:38:41', 'ecommerce_website_name': 'www.flipkart.com', 'payment_txn_id': 'b594a0e5', 'payment_txn_success': 'N', 'failure_reason': 'Invalid CVV'}, {'order_id': 30, 'customer_id': 1361, 'product_id': 4082, 'product_name': 'Bar electronic', 'product_category': 'Electronics', 'payment_type': 'UPI', 'qty': 4, 'price': 41576, 'datetime': '2022-07-25T06:41:50', 'ecommerce_website_name': 'www.bestbuy.com', 'payment_txn_id': '36f58f90', 'payment_txn_success': 'Y', 'failure_reason': ''}, {'order_id': 31, 'customer_id': 1361, 'product_id': 4596, 'product_name': 'Build furnitur', 'product_category': 'Furniture', 'payment_type': 'Internet Banking', 'qty': 43, 'price': 23570, 'datetime': '2024-05-08T23:49:39', 'ecommerce_website_name': 'www.target.com', 'payment_txn_id': 'cdd6319f', 'payment_txn_success': 'N', 'failure_reason': 'Invalid CVV'}, {'order_id': 32, 'customer_id': 8381, 'product_id': 3279, 'product_name': 'Themselves toy', 'product_category': 'Toys', 'payment_type': 'Internet Banking', 'qty': 35, 'price': 31106, 'datetime': '2023-01-05T19:23:57', 'ecommerce_website_name': 'www.ebay.in', 'payment_txn_id': 'e033bd2b', 'payment_txn_success': 'N', 'failure_reason': 'Invalid CVV'}, {'order_id': 33, 'customer_id': 3634, 'product_id': 4774, 'product_name': 'There electronic', 'product_category': 'Electronics', 'payment_type': 'Wallet', 'qty': 28, 'price': 34537, 'datetime': '2024-03-09T12:11:07', 'ecommerce_website_name': 'www.amazon.in', 'payment_txn_id': 'e7ed27fb', 'payment_txn_success': 'N', 'failure_reason': 'Invalid CVV'}, {'order_id': 34, 'customer_id': 3507, 'product_id': 3527, 'product_name': 'Former grocerie', 'product_category': 'Groceries', 'payment_type': 'UPI', 'qty': 13, 'price': 78577, 'datetime': '2023-06-23T20:25:38', 'ecommerce_website_name': 'www.amazon.com', 'payment_txn_id': 'e46fab1d', 'payment_txn_success': 'N', 'failure_reason': 'Card Expired'}, {'order_id': 35, 'customer_id': 4915, 'product_id': 7022, 'product_name': 'Story home & kitche', 'product_category': 'Home & Kitchen', 'payment_type': 'Internet Banking', 'qty': 36, 'price': 64684, 'datetime': '2022-07-10T10:00:56', 'ecommerce_website_name': 'www.ebay.in', 'payment_txn_id': 'cf78afca', 'payment_txn_success': 'N', 'failure_reason': 'Insufficient Funds'}, {'order_id': 36, 'customer_id': 4803, 'product_id': 9234, 'product_name': 'Door toy', 'product_category': 'Toys', 'payment_type': 'Card', 'qty': 11, 'price': 88161, 'datetime': '2024-01-16T01:30:35', 'ecommerce_website_name': 'www.etsy.com', 'payment_txn_id': 'c54037cb', 'payment_txn_success': 'Y', 'failure_reason': ''}, {'order_id': 37, 'customer_id': 1696, 'product_id': 9470, 'product_name': 'Media book', 'product_category': 'Books', 'payment_type': 'Card', 'qty': 6, 'price': 61097, 'datetime': '2023-10-16T12:25:30', 'ecommerce_website_name': 'www.ebay.in', 'payment_txn_id': 'e73f5a4f', 'payment_txn_success': 'N', 'failure_reason': 'Transaction Timeout'}, {'order_id': 38, 'customer_id': 7309, 'product_id': 5790, 'product_name': 'International sport', 'product_category': 'Sports', 'payment_type': 'UPI', 'qty': 19, 'price': 32398, 'datetime': '2021-09-25T01:08:26', 'ecommerce_website_name': 'www.amazon.com', 'payment_txn_id': '47f357cf', 'payment_txn_success': 'N', 'failure_reason': 'Invalid CVV'}, {'order_id': 39, 'customer_id': 8381, 'product_id': 6043, 'product_name': 'Democratic sport', 'product_category': 'Sports', 'payment_type': 'Internet Banking', 'qty': 12, 'price': 7029, 'datetime': '2023-02-13T20:21:27', 'ecommerce_website_name': 'www.etsy.com', 'payment_txn_id': '246aa790', 'payment_txn_success': 'Y', 'failure_reason': ''}, {'order_id': 40, 'customer_id': 1149, 'product_id': 1568, 'product_name': 'Sound furnitur', 'product_category': 'Furniture', 'payment_type': 'Card', 'qty': 18, 'price': 14546, 'datetime': '2024-03-14T23:50:32', 'ecommerce_website_name': 'www.etsy.com', 'payment_txn_id': '49a5b5b3', 'payment_txn_success': 'N', 'failure_reason': 'Invalid CVV'}, {'order_id': 41, 'customer_id': 8420, 'product_id': 7294, 'product_name': 'About sport', 'product_category': 'Sports', 'payment_type': 'Card', 'qty': 38, 'price': 18373, 'datetime': '2024-06-06T07:16:59', 'ecommerce_website_name': 'www.ebay.in', 'payment_txn_id': 'b1e39684', 'payment_txn_success': 'Y', 'failure_reason': ''}, {'order_id': 42, 'customer_id': 2598, 'product_id': 763, 'product_name': 'Three stationer', 'product_category': 'Stationery', 'payment_type': 'Internet Banking', 'qty': 47, 'price': 81, 'datetime': '2023-12-13T14:14:02', 'ecommerce_website_name': 'www.alibaba.com', 'payment_txn_id': '0c339773', 'payment_txn_success': 'N', 'failure_reason': 'Card Expired'}, {'order_id': 43, 'customer_id': 1218, 'product_id': 6717, 'product_name': 'Eye electronic', 'product_category': 'Electronics', 'payment_type': 'Wallet', 'qty': 4, 'price': 23175, 'datetime': '2021-08-04T15:44:51', 'ecommerce_website_name': 'www.bestbuy.com', 'payment_txn_id': 'cb5f3f40', 'payment_txn_success': 'N', 'failure_reason': 'Transaction Timeout'}, {'order_id': 44, 'customer_id': 7590, 'product_id': 7523, 'product_name': 'Listen furnitur', 'product_category': 'Furniture', 'payment_type': 'Internet Banking', 'qty': 26, 'price': 25755, 'datetime': '2023-10-07T12:36:50', 'ecommerce_website_name': 'www.target.com', 'payment_txn_id': 'cc90eb8d', 'payment_txn_success': 'Y', 'failure_reason': ''}, {'order_id': 45, 'customer_id': 3619, 'product_id': 6151, 'product_name': 'Discuss clothin', 'product_category': 'Clothing', 'payment_type': 'Wallet', 'qty': 34, 'price': 84894, 'datetime': '2023-07-09T03:20:42', 'ecommerce_website_name': 'www.ebay.in', 'payment_txn_id': 'e3d84b1d', 'payment_txn_success': 'N', 'failure_reason': 'Transaction Timeout'}, {'order_id': 46, 'customer_id': 3784, 'product_id': 576, 'product_name': 'Grow electronic', 'product_category': 'Electronics', 'payment_type': 'Internet Banking', 'qty': 32, 'price': 52886, 'datetime': '2022-08-03T04:44:01', 'ecommerce_website_name': 'www.amazon.in', 'payment_txn_id': '1ceaa5a8', 'payment_txn_success': 'Y', 'failure_reason': ''}, {'order_id': 47, 'customer_id': 7309, 'product_id': 5562, 'product_name': 'Peace electronic', 'product_category': 'Electronics', 'payment_type': 'UPI', 'qty': 21, 'price': 88330, 'datetime': '2022-06-02T01:12:17', 'ecommerce_website_name': 'www.tatacliq.com', 'payment_txn_id': 'd3038104', 'payment_txn_success': 'N', 'failure_reason': 'Insufficient Funds'}, {'order_id': 48, 'customer_id': 8381, 'product_id': 7422, 'product_name': 'General book', 'product_category': 'Books', 'payment_type': 'UPI', 'qty': 25, 'price': 21845, 'datetime': '2023-07-19T23:40:34', 'ecommerce_website_name': 'www.target.com', 'payment_txn_id': '4466f4d5', 'payment_txn_success': 'N', 'failure_reason': 'Blocked Card'}, {'order_id': 49, 'customer_id': 1356, 'product_id': 1322, 'product_name': 'Short stationer', 'product_category': 'Stationery', 'payment_type': 'Wallet', 'qty': 22, 'price': 30076, 'datetime': '2021-12-30T15:59:14', 'ecommerce_website_name': 'www.flipkart.com', 'payment_txn_id': 'c6c41297', 'payment_txn_success': 'N', 'failure_reason': 'Invalid CVV'}, {'order_id': 50, 'customer_id': 7489, 'product_id': 5886, 'product_name': 'Type clothin', 'product_category': 'Clothing', 'payment_type': 'Wallet', 'qty': 29, 'price': 64587, 'datetime': '2021-08-12T15:07:18', 'ecommerce_website_name': 'www.target.com', 'payment_txn_id': '80adf096', 'payment_txn_success': 'Y', 'failure_reason': ''}, {'order_id': 51, 'customer_id': 8381, 'product_id': 670, 'product_name': 'Consumer grocerie', 'product_category': 'Groceries', 'payment_type': 'Card', 'qty': 15, 'price': 6285, 'datetime': '2024-02-25T00:40:58', 'ecommerce_website_name': 'www.amazon.com', 'payment_txn_id': 'efe964cc', 'payment_txn_success': 'Y', 'failure_reason': ''}, {'order_id': 52, 'customer_id': 6601, 'product_id': 545, 'product_name': 'Sort sport', 'product_category': 'Sports', 'payment_type': 'Internet Banking', 'qty': 21, 'price': 92264, 'datetime': '2024-01-25T08:58:48', 'ecommerce_website_name': 'www.bestbuy.com', 'payment_txn_id': '773e9797', 'payment_txn_success': 'Y', 'failure_reason': ''}, {'order_id': 53, 'customer_id': 230, 'product_id': 7418, 'product_name': 'Whose beaut', 'product_category': 'Beauty', 'payment_type': 'Card', 'qty': 28, 'price': 66876, 'datetime': '2023-08-20T10:28:46', 'ecommerce_website_name': 'www.etsy.com', 'payment_txn_id': '5c4757ca', 'payment_txn_success': 'Y', 'failure_reason': ''}, {'order_id': 54, 'customer_id': 7489, 'product_id': 670, 'product_name': 'Sister furnitur', 'product_category': 'Furniture', 'payment_type': 'Card', 'qty': 45, 'price': 60762, 'datetime': '2022-09-14T21:55:39', 'ecommerce_website_name': 'www.flipkart.com', 'payment_txn_id': '86a994f0', 'payment_txn_success': 'N', 'failure_reason': 'Invalid CVV'}, {'order_id': 55, 'customer_id': 4394, 'product_id': 4018, 'product_name': 'People home & kitche', 'product_category': 'Home & Kitchen', 'payment_type': 'Wallet', 'qty': 45, 'price': 7507, 'datetime': '2024-01-03T03:34:38', 'ecommerce_website_name': 'www.amazon.com', 'payment_txn_id': '397e0cf6', 'payment_txn_success': 'Y', 'failure_reason': ''}, {'order_id': 56, 'customer_id': 6601, 'product_id': 544, 'product_name': 'Field furnitur', 'product_category': 'Furniture', 'payment_type': 'UPI', 'qty': 1, 'price': 61673, 'datetime': '2022-05-06T06:37:33', 'ecommerce_website_name': 'www.flipkart.com', 'payment_txn_id': '60fb4dd8', 'payment_txn_success': 'N', 'failure_reason': 'Card Expired'}, {'order_id': 57, 'customer_id': 3634, 'product_id': 8967, 'product_name': 'Detail furnitur', 'product_category': 'Furniture', 'payment_type': 'Card', 'qty': 42, 'price': 36664, 'datetime': '2024-07-02T01:10:24', 'ecommerce_website_name': 'www.amazon.com', 'payment_txn_id': '1ab1ffbe', 'payment_txn_success': 'Y', 'failure_reason': ''}, {'order_id': 58, 'customer_id': 8381, 'product_id': 1514, 'product_name': 'Speech electronic', 'product_category': 'Electronics', 'payment_type': 'Card', 'qty': 38, 'price': 80550, 'datetime': '2021-09-29T01:00:27', 'ecommerce_website_name': 'www.tatacliq.com', 'payment_txn_id': '54bb1219', 'payment_txn_success': 'N', 'failure_reason': 'Insufficient Funds'}, {'order_id': 59, 'customer_id': 3502, 'product_id': 2165, 'product_name': 'Call beaut', 'product_category': 'Beauty', 'payment_type': 'UPI', 'qty': 25, 'price': 68844, 'datetime': '2021-11-18T04:26:17', 'ecommerce_website_name': 'www.target.com', 'payment_txn_id': 'b7c59a3c', 'payment_txn_success': 'N', 'failure_reason': 'Transaction Timeout'}, {'order_id': 60, 'customer_id': 9503, 'product_id': 9488, 'product_name': 'Responsibility clothin', 'product_category': 'Clothing', 'payment_type': 'Wallet', 'qty': 47, 'price': 2254, 'datetime': '2022-01-16T06:50:20', 'ecommerce_website_name': 'www.etsy.com', 'payment_txn_id': 'a0c5393a', 'payment_txn_success': 'N', 'failure_reason': 'Invalid CVV'}, {'order_id': 61, 'customer_id': 5539, 'product_id': 8717, 'product_name': 'Capital beaut', 'product_category': 'Beauty', 'payment_type': 'Internet Banking', 'qty': 2, 'price': 26439, 'datetime': '2021-11-24T04:01:08', 'ecommerce_website_name': 'www.alibaba.com', 'payment_txn_id': '4dfd2d63', 'payment_txn_success': 'N', 'failure_reason': 'Blocked Card'}, {'order_id': 62, 'customer_id': 4519, 'product_id': 7157, 'product_name': 'Environment clothin', 'product_category': 'Clothing', 'payment_type': 'Internet Banking', 'qty': 25, 'price': 91397, 'datetime': '2022-11-17T17:00:27', 'ecommerce_website_name': 'www.bestbuy.com', 'payment_txn_id': 'caadfe3a', 'payment_txn_success': 'N', 'failure_reason': 'Transaction Timeout'}, {'order_id': 63, 'customer_id': 7309, 'product_id': 1087, 'product_name': 'Only stationer', 'product_category': 'Stationery', 'payment_type': 'Card', 'qty': 6, 'price': 79656, 'datetime': '2022-03-10T09:38:32', 'ecommerce_website_name': 'www.bestbuy.com', 'payment_txn_id': '1521222d', 'payment_txn_success': 'Y', 'failure_reason': ''}, {'order_id': 64, 'customer_id': 527, 'product_id': 845, 'product_name': 'Plan clothin', 'product_category': 'Clothing', 'payment_type': 'Wallet', 'qty': 29, 'price': 81406, 'datetime': '2021-11-20T20:31:15', 'ecommerce_website_name': 'www.ebay.in', 'payment_txn_id': '7f659fcb', 'payment_txn_success': 'N', 'failure_reason': 'Transaction Timeout'}, {'order_id': 65, 'customer_id': 3998, 'product_id': 9282, 'product_name': 'Building grocerie', 'product_category': 'Groceries', 'payment_type': 'Internet Banking', 'qty': 9, 'price': 76246, 'datetime': '2021-11-21T12:43:26', 'ecommerce_website_name': 'www.tatacliq.com', 'payment_txn_id': '0d5483e5', 'payment_txn_success': 'Y', 'failure_reason': ''}, {'order_id': 66, 'customer_id': 1361, 'product_id': 7822, 'product_name': 'Wear clothin', 'product_category': 'Clothing', 'payment_type': 'Card', 'qty': 17, 'price': 739, 'datetime': '2023-07-13T18:58:29', 'ecommerce_website_name': 'www.amazon.com', 'payment_txn_id': '92fc4f6a', 'payment_txn_success': 'N', 'failure_reason': 'Invalid CVV'}, {'order_id': 67, 'customer_id': 7590, 'product_id': 7689, 'product_name': 'Purpose book', 'product_category': 'Books', 'payment_type': 'Internet Banking', 'qty': 40, 'price': 34541, 'datetime': '2023-01-22T16:03:35', 'ecommerce_website_name': 'www.bestbuy.com', 'payment_txn_id': '792ffac6', 'payment_txn_success': 'N', 'failure_reason': 'Card Expired'}, {'order_id': 68, 'customer_id': 3223, 'product_id': 9666, 'product_name': 'What stationer', 'product_category': 'Stationery', 'payment_type': 'UPI', 'qty': 29, 'price': 58377, 'datetime': '2022-09-15T14:36:16', 'ecommerce_website_name': 'www.walmart.com', 'payment_txn_id': '0a196843', 'payment_txn_success': 'N', 'failure_reason': 'Invalid CVV'}, {'order_id': 69, 'customer_id': 8381, 'product_id': 9284, 'product_name': 'Management stationer', 'product_category': 'Stationery', 'payment_type': 'Card', 'qty': 36, 'price': 23371, 'datetime': '2023-08-14T01:16:34', 'ecommerce_website_name': 'www.bestbuy.com', 'payment_txn_id': '1ab2737b', 'payment_txn_success': 'Y', 'failure_reason': ''}, {'order_id': 70, 'customer_id': 9503, 'product_id': 3487, 'product_name': 'Set furnitur', 'product_category': 'Furniture', 'payment_type': 'Internet Banking', 'qty': 29, 'price': 56039, 'datetime': '2022-11-10T02:40:13', 'ecommerce_website_name': 'www.target.com', 'payment_txn_id': '6ef7b248', 'payment_txn_success': 'Y', 'failure_reason': ''}, {'order_id': 71, 'customer_id': 7590, 'product_id': 3589, 'product_name': 'Rule toy', 'product_category': 'Toys', 'payment_type': 'UPI', 'qty': 17, 'price': 59355, 'datetime': '2024-03-12T22:20:18', 'ecommerce_website_name': 'www.amazon.in', 'payment_txn_id': '5bb66a18', 'payment_txn_success': 'N', 'failure_reason': 'Card Expired'}, {'order_id': 72, 'customer_id': 6754, 'product_id': 5053, 'product_name': 'Among furnitur', 'product_category': 'Furniture', 'payment_type': 'Wallet', 'qty': 9, 'price': 80514, 'datetime': '2023-04-10T12:31:58', 'ecommerce_website_name': 'www.walmart.com', 'payment_txn_id': '73977383', 'payment_txn_success': 'N', 'failure_reason': 'Card Expired'}, {'order_id': 73, 'customer_id': 7878, 'product_id': 5066, 'product_name': 'Focus electronic', 'product_category': 'Electronics', 'payment_type': 'Internet Banking', 'qty': 42, 'price': 10889, 'datetime': '2024-07-06T10:16:50', 'ecommerce_website_name': 'www.amazon.in', 'payment_txn_id': '6d7121fb', 'payment_txn_success': 'N', 'failure_reason': 'Invalid CVV'}, {'order_id': 74, 'customer_id': 3870, 'product_id': 8866, 'product_name': 'Figure stationer', 'product_category': 'Stationery', 'payment_type': 'UPI', 'qty': 44, 'price': 57608, 'datetime': '2024-06-13T03:51:26', 'ecommerce_website_name': 'www.flipkart.com', 'payment_txn_id': 'ac4f1462', 'payment_txn_success': 'N', 'failure_reason': 'Transaction Timeout'}, {'order_id': 75, 'customer_id': 5539, 'product_id': 4892, 'product_name': 'Choice furnitur', 'product_category': 'Furniture', 'payment_type': 'Wallet', 'qty': 8, 'price': 12730, 'datetime': '2023-03-03T07:01:13', 'ecommerce_website_name': 'www.amazon.in', 'payment_txn_id': '402467d0', 'payment_txn_success': 'N', 'failure_reason': 'Insufficient Funds'}, {'order_id': 76, 'customer_id': 9428, 'product_id': 9422, 'product_name': 'Eat grocerie', 'product_category': 'Groceries', 'payment_type': 'Internet Banking', 'qty': 28, 'price': 58225, 'datetime': '2023-03-02T14:31:44', 'ecommerce_website_name': 'www.walmart.com', 'payment_txn_id': '135ec096', 'payment_txn_success': 'Y', 'failure_reason': ''}, {'order_id': 77, 'customer_id': 7590, 'product_id': 8074, 'product_name': 'Measure home & kitche', 'product_category': 'Home & Kitchen', 'payment_type': 'Internet Banking', 'qty': 4, 'price': 9225, 'datetime': '2022-08-04T00:15:42', 'ecommerce_website_name': 'www.target.com', 'payment_txn_id': 'c79166d4', 'payment_txn_success': 'N', 'failure_reason': 'Insufficient Funds'}, {'order_id': 78, 'customer_id': 5168, 'product_id': 748, 'product_name': 'Food sport', 'product_category': 'Sports', 'payment_type': 'UPI', 'qty': 1, 'price': 72039, 'datetime': '2024-07-03T01:45:29', 'ecommerce_website_name': 'www.alibaba.com', 'payment_txn_id': 'fc9fafab', 'payment_txn_success': 'N', 'failure_reason': 'Transaction Timeout'}, {'order_id': 79, 'customer_id': 8578, 'product_id': 5569, 'product_name': 'Street beaut', 'product_category': 'Beauty', 'payment_type': 'UPI', 'qty': 8, 'price': 70715, 'datetime': '2021-12-27T05:59:41', 'ecommerce_website_name': 'www.alibaba.com', 'payment_txn_id': 'bd0e5e34', 'payment_txn_success': 'Y', 'failure_reason': ''}, {'order_id': 80, 'customer_id': 8205, 'product_id': 7584, 'product_name': 'Trial book', 'product_category': 'Books', 'payment_type': 'Card', 'qty': 32, 'price': 81598, 'datetime': '2023-08-24T20:55:04', 'ecommerce_website_name': 'www.ebay.in', 'payment_txn_id': '0f5e57df', 'payment_txn_success': 'Y', 'failure_reason': ''}, {'order_id': 81, 'customer_id': 5647, 'product_id': 2048, 'product_name': 'Really clothin', 'product_category': 'Clothing', 'payment_type': 'UPI', 'qty': 27, 'price': 22357, 'datetime': '2023-10-21T08:27:13', 'ecommerce_website_name': 'www.etsy.com', 'payment_txn_id': '106b49da', 'payment_txn_success': 'Y', 'failure_reason': ''}, {'order_id': 82, 'customer_id': 5989, 'product_id': 3014, 'product_name': 'Decade sport', 'product_category': 'Sports', 'payment_type': 'Internet Banking', 'qty': 13, 'price': 67284, 'datetime': '2021-09-10T08:56:08', 'ecommerce_website_name': 'www.amazon.in', 'payment_txn_id': '1802eee1', 'payment_txn_success': 'N', 'failure_reason': 'Blocked Card'}, {'order_id': 83, 'customer_id': 8381, 'product_id': 9873, 'product_name': 'True beaut', 'product_category': 'Beauty', 'payment_type': 'Card', 'qty': 14, 'price': 99054, 'datetime': '2022-08-15T17:42:11', 'ecommerce_website_name': 'www.walmart.com', 'payment_txn_id': 'ca343749', 'payment_txn_success': 'N', 'failure_reason': 'Insufficient Funds'}, {'order_id': 84, 'customer_id': 8381, 'product_id': 8105, 'product_name': 'Police grocerie', 'product_category': 'Groceries', 'payment_type': 'Internet Banking', 'qty': 23, 'price': 92299, 'datetime': '2022-11-22T23:55:33', 'ecommerce_website_name': 'www.tatacliq.com', 'payment_txn_id': '37d728f8', 'payment_txn_success': 'N', 'failure_reason': 'Blocked Card'}, {'order_id': 85, 'customer_id': 8381, 'product_id': 7349, 'product_name': 'Even clothin', 'product_category': 'Clothing', 'payment_type': 'Internet Banking', 'qty': 3, 'price': 9243, 'datetime': '2022-01-31T23:57:08', 'ecommerce_website_name': 'www.tatacliq.com', 'payment_txn_id': 'ec20d10a', 'payment_txn_success': 'N', 'failure_reason': 'Blocked Card'}, {'order_id': 86, 'customer_id': 8611, 'product_id': 8557, 'product_name': 'Agency toy', 'product_category': 'Toys', 'payment_type': 'Internet Banking', 'qty': 11, 'price': 79386, 'datetime': '2021-10-18T12:15:09', 'ecommerce_website_name': 'www.amazon.com', 'payment_txn_id': 'f86496e8', 'payment_txn_success': 'N', 'failure_reason': 'Transaction Timeout'}, {'order_id': 87, 'customer_id': 7309, 'product_id': 6652, 'product_name': 'Also stationer', 'product_category': 'Stationery', 'payment_type': 'UPI', 'qty': 44, 'price': 66926, 'datetime': '2021-08-27T03:20:15', 'ecommerce_website_name': 'www.etsy.com', 'payment_txn_id': '42bb3ef0', 'payment_txn_success': 'Y', 'failure_reason': ''}, {'order_id': 88, 'customer_id': 8235, 'product_id': 4535, 'product_name': 'Along home & kitche', 'product_category': 'Home & Kitchen', 'payment_type': 'Card', 'qty': 11, 'price': 29357, 'datetime': '2023-01-13T18:59:07', 'ecommerce_website_name': 'www.target.com', 'payment_txn_id': 'e3ef4222', 'payment_txn_success': 'Y', 'failure_reason': ''}, {'order_id': 89, 'customer_id': 3502, 'product_id': 6628, 'product_name': 'Station sport', 'product_category': 'Sports', 'payment_type': 'Wallet', 'qty': 15, 'price': 25226, 'datetime': '2024-01-02T21:29:39', 'ecommerce_website_name': 'www.flipkart.com', 'payment_txn_id': '850018dc', 'payment_txn_success': 'Y', 'failure_reason': ''}, {'order_id': 90, 'customer_id': 5539, 'product_id': 8068, 'product_name': 'Beyond stationer', 'product_category': 'Stationery', 'payment_type': 'Internet Banking', 'qty': 9, 'price': 48359, 'datetime': '2024-04-01T13:22:22', 'ecommerce_website_name': 'www.alibaba.com', 'payment_txn_id': 'fdc146ef', 'payment_txn_success': 'Y', 'failure_reason': ''}, {'order_id': 91, 'customer_id': 252, 'product_id': 6424, 'product_name': 'Simply beaut', 'product_category': 'Beauty', 'payment_type': 'UPI', 'qty': 43, 'price': 77170, 'datetime': '2023-10-08T08:28:00', 'ecommerce_website_name': 'www.target.com', 'payment_txn_id': 'bd4ae6bf', 'payment_txn_success': 'N', 'failure_reason': 'Insufficient Funds'}, {'order_id': 92, 'customer_id': 8381, 'product_id': 9815, 'product_name': 'Wrong grocerie', 'product_category': 'Groceries', 'payment_type': 'Card', 'qty': 39, 'price': 1508, 'datetime': '2023-07-23T00:14:47', 'ecommerce_website_name': 'www.target.com', 'payment_txn_id': 'c8cbdec1', 'payment_txn_success': 'Y', 'failure_reason': ''}, {'order_id': 93, 'customer_id': 3223, 'product_id': 7727, 'product_name': 'Onto toy', 'product_category': 'Toys', 'payment_type': 'Card', 'qty': 45, 'price': 69714, 'datetime': '2024-04-04T05:39:03', 'ecommerce_website_name': 'www.ebay.in', 'payment_txn_id': '41a0ed2c', 'payment_txn_success': 'Y', 'failure_reason': ''}, {'order_id': 94, 'customer_id': 6229, 'product_id': 6456, 'product_name': 'Town electronic', 'product_category': 'Electronics', 'payment_type': 'Wallet', 'qty': 40, 'price': 29396, 'datetime': '2024-06-16T23:07:42', 'ecommerce_website_name': 'www.walmart.com', 'payment_txn_id': 'f55a5822', 'payment_txn_success': 'Y', 'failure_reason': ''}, {'order_id': 95, 'customer_id': 5139, 'product_id': 1777, 'product_name': 'Situation stationer', 'product_category': 'Stationery', 'payment_type': 'Wallet', 'qty': 37, 'price': 15118, 'datetime': '2023-09-25T20:35:26', 'ecommerce_website_name': 'www.bestbuy.com', 'payment_txn_id': 'e29602c7', 'payment_txn_success': 'Y', 'failure_reason': ''}, {'order_id': 96, 'customer_id': 5539, 'product_id': 9329, 'product_name': 'The grocerie', 'product_category': 'Groceries', 'payment_type': 'Card', 'qty': 27, 'price': 69686, 'datetime': '2023-06-15T06:03:57', 'ecommerce_website_name': 'www.flipkart.com', 'payment_txn_id': '1724595f', 'payment_txn_success': 'Y', 'failure_reason': ''}, {'order_id': 97, 'customer_id': 1149, 'product_id': 8996, 'product_name': 'Little clothin', 'product_category': 'Clothing', 'payment_type': 'Wallet', 'qty': 34, 'price': 49260, 'datetime': '2024-07-17T01:50:31', 'ecommerce_website_name': 'www.amazon.com', 'payment_txn_id': '23e9d6a4', 'payment_txn_success': 'Y', 'failure_reason': ''}, {'order_id': 98, 'customer_id': 5611, 'product_id': 3326, 'product_name': 'Hair clothin', 'product_category': 'Clothing', 'payment_type': 'Wallet', 'qty': 46, 'price': 23656, 'datetime': '2022-08-04T01:39:28', 'ecommerce_website_name': 'www.amazon.in', 'payment_txn_id': '2f0a2c2f', 'payment_txn_success': 'Y', 'failure_reason': ''}, {'order_id': 99, 'customer_id': 8381, 'product_id': 5011, 'product_name': 'Center toy', 'product_category': 'Toys', 'payment_type': 'Internet Banking', 'qty': 19, 'price': 94319, 'datetime': '2022-10-28T13:45:22', 'ecommerce_website_name': 'www.etsy.com', 'payment_txn_id': 'fecd58b5', 'payment_txn_success': 'N', 'failure_reason': 'Blocked Card'}, {'order_id': 100, 'customer_id': 7590, 'product_id': 5047, 'product_name': 'Nation toy', 'product_category': 'Toys', 'payment_type': 'Wallet', 'qty': 4, 'price': 22909, 'datetime': '2024-04-29T16:00:02', 'ecommerce_website_name': 'www.tatacliq.com', 'payment_txn_id': '7303baf3', 'payment_txn_success': 'Y', 'failure_reason': ''}, {'order_id': 101, 'customer_id': 9648, 'product_id': 9356, 'product_name': 'Suggest electronic', 'product_category': 'Electronics', 'payment_type': 'Card', 'qty': 48, 'price': 86391, 'datetime': '2022-11-17T06:44:55', 'ecommerce_website_name': 'www.target.com', 'payment_txn_id': '2d95ed05', 'payment_txn_success': 'N', 'failure_reason': 'Invalid CVV'}, {'order_id': 102, 'customer_id': 7592, 'product_id': 2087, 'product_name': 'Nation furnitur', 'product_category': 'Furniture', 'payment_type': 'Wallet', 'qty': 12, 'price': 69039, 'datetime': '2021-08-11T09:39:42', 'ecommerce_website_name': 'www.bestbuy.com', 'payment_txn_id': 'af1ef937', 'payment_txn_success': 'N', 'failure_reason': 'Blocked Card'}, {'order_id': 103, 'customer_id': 4479, 'product_id': 6573, 'product_name': 'Peace sport', 'product_category': 'Sports', 'payment_type': 'Card', 'qty': 26, 'price': 59049, 'datetime': '2021-11-28T21:15:29', 'ecommerce_website_name': 'www.amazon.com', 'payment_txn_id': '22dd1fcd', 'payment_txn_success': 'Y', 'failure_reason': ''}, {'order_id': 104, 'customer_id': 1360, 'product_id': 3343, 'product_name': 'Air clothin', 'product_category': 'Clothing', 'payment_type': 'Internet Banking', 'qty': 37, 'price': 91603, 'datetime': '2023-01-25T04:59:58', 'ecommerce_website_name': 'www.flipkart.com', 'payment_txn_id': '89f7fbb0', 'payment_txn_success': 'Y', 'failure_reason': ''}, {'order_id': 105, 'customer_id': 3502, 'product_id': 9664, 'product_name': 'Official sport', 'product_category': 'Sports', 'payment_type': 'Internet Banking', 'qty': 47, 'price': 63435, 'datetime': '2022-08-03T15:47:07', 'ecommerce_website_name': 'www.target.com', 'payment_txn_id': '50e6cf4f', 'payment_txn_success': 'Y', 'failure_reason': ''}, {'order_id': 106, 'customer_id': 1814, 'product_id': 7735, 'product_name': 'Writer grocerie', 'product_category': 'Groceries', 'payment_type': 'Internet Banking', 'qty': 5, 'price': 59288, 'datetime': '2022-05-28T12:40:29', 'ecommerce_website_name': 'www.walmart.com', 'payment_txn_id': '09a45f89', 'payment_txn_success': 'N', 'failure_reason': 'Blocked Card'}, {'order_id': 107, 'customer_id': 7309, 'product_id': 1529, 'product_name': 'Describe home & kitche', 'product_category': 'Home & Kitchen', 'payment_type': 'Internet Banking', 'qty': 15, 'price': 95910, 'datetime': '2022-01-01T21:19:57', 'ecommerce_website_name': 'www.ebay.in', 'payment_txn_id': '742ea5bc', 'payment_txn_success': 'Y', 'failure_reason': ''}, {'order_id': 108, 'customer_id': 8719, 'product_id': 7296, 'product_name': 'Lead electronic', 'product_category': 'Electronics', 'payment_type': 'Card', 'qty': 49, 'price': 80289, 'datetime': '2022-09-22T13:03:12', 'ecommerce_website_name': 'www.etsy.com', 'payment_txn_id': '859f8118', 'payment_txn_success': 'N', 'failure_reason': 'Insufficient Funds'}, {'order_id': 109, 'customer_id': 7305, 'product_id': 8337, 'product_name': 'Expect beaut', 'product_category': 'Beauty', 'payment_type': 'Wallet', 'qty': 29, 'price': 71796, 'datetime': '2023-01-18T01:42:45', 'ecommerce_website_name': 'www.ebay.in', 'payment_txn_id': 'dcb62ade', 'payment_txn_success': 'Y', 'failure_reason': ''}, {'order_id': 110, 'customer_id': 2555, 'product_id': 3807, 'product_name': 'Technology grocerie', 'product_category': 'Groceries', 'payment_type': 'Card', 'qty': 26, 'price': 36673, 'datetime': '2022-08-27T04:46:12', 'ecommerce_website_name': 'www.amazon.com', 'payment_txn_id': 'd23243c7', 'payment_txn_success': 'Y', 'failure_reason': ''}, {'order_id': 111, 'customer_id': 9503, 'product_id': 4538, 'product_name': 'Rest home & kitche', 'product_category': 'Home & Kitchen', 'payment_type': 'Card', 'qty': 26, 'price': 65365, 'datetime': '2024-05-11T15:50:02', 'ecommerce_website_name': 'www.bestbuy.com', 'payment_txn_id': 'edefde08', 'payment_txn_success': 'Y', 'failure_reason': ''}, {'order_id': 112, 'customer_id': 8656, 'product_id': 9384, 'product_name': 'Company beaut', 'product_category': 'Beauty', 'payment_type': 'Internet Banking', 'qty': 7, 'price': 44473, 'datetime': '2022-06-19T04:25:44', 'ecommerce_website_name': 'www.etsy.com', 'payment_txn_id': '42064b0d', 'payment_txn_success': 'Y', 'failure_reason': ''}, {'order_id': 113, 'customer_id': 5539, 'product_id': 336, 'product_name': 'Success furnitur', 'product_category': 'Furniture', 'payment_type': 'Wallet', 'qty': 12, 'price': 1856, 'datetime': '2023-12-02T12:37:26', 'ecommerce_website_name': 'www.alibaba.com', 'payment_txn_id': '344cfb30', 'payment_txn_success': 'N', 'failure_reason': 'Invalid CVV'}, {'order_id': 114, 'customer_id': 4040, 'product_id': 9553, 'product_name': 'Star clothin', 'product_category': 'Clothing', 'payment_type': 'Wallet', 'qty': 3, 'price': 22769, 'datetime': '2021-10-24T06:53:14', 'ecommerce_website_name': 'www.alibaba.com', 'payment_txn_id': '6c36a4b7', 'payment_txn_success': 'Y', 'failure_reason': ''}, {'order_id': 115, 'customer_id': 7309, 'product_id': 3771, 'product_name': 'She grocerie', 'product_category': 'Groceries', 'payment_type': 'Wallet', 'qty': 31, 'price': 8442, 'datetime': '2024-03-02T12:52:12', 'ecommerce_website_name': 'www.alibaba.com', 'payment_txn_id': '2729577c', 'payment_txn_success': 'Y', 'failure_reason': ''}, {'order_id': 116, 'customer_id': 9110, 'product_id': 7870, 'product_name': 'Wind book', 'product_category': 'Books', 'payment_type': 'UPI', 'qty': 17, 'price': 31118, 'datetime': '2023-05-23T16:36:57', 'ecommerce_website_name': 'www.bestbuy.com', 'payment_txn_id': '49822044', 'payment_txn_success': 'N', 'failure_reason': 'Card Expired'}, {'order_id': 117, 'customer_id': 6046, 'product_id': 7120, 'product_name': 'Bag furnitur', 'product_category': 'Furniture', 'payment_type': 'Internet Banking', 'qty': 30, 'price': 4780, 'datetime': '2023-10-10T17:25:53', 'ecommerce_website_name': 'www.flipkart.com', 'payment_txn_id': 'bc8195b4', 'payment_txn_success': 'N', 'failure_reason': 'Insufficient Funds'}, {'order_id': 118, 'customer_id': 3607, 'product_id': 3225, 'product_name': 'South sport', 'product_category': 'Sports', 'payment_type': 'Card', 'qty': 37, 'price': 36084, 'datetime': '2024-02-20T02:23:08', 'ecommerce_website_name': 'www.amazon.com', 'payment_txn_id': '3b872a8f', 'payment_txn_success': 'Y', 'failure_reason': ''}, {'order_id': 119, 'customer_id': 5539, 'product_id': 9113, 'product_name': 'Oil sport', 'product_category': 'Sports', 'payment_type': 'Card', 'qty': 31, 'price': 43396, 'datetime': '2022-10-17T02:56:22', 'ecommerce_website_name': 'www.walmart.com', 'payment_txn_id': '8b170191', 'payment_txn_success': 'N', 'failure_reason': 'Insufficient Funds'}, {'order_id': 120, 'customer_id': 1490, 'product_id': 4889, 'product_name': 'Newspaper sport', 'product_category': 'Sports', 'payment_type': 'Internet Banking', 'qty': 50, 'price': 12852, 'datetime': '2022-03-24T19:00:59', 'ecommerce_website_name': 'www.amazon.in', 'payment_txn_id': 'aeb0890d', 'payment_txn_success': 'N', 'failure_reason': 'Blocked Card'}, {'order_id': 121, 'customer_id': 1016, 'product_id': 2971, 'product_name': 'Mean clothin', 'product_category': 'Clothing', 'payment_type': 'Internet Banking', 'qty': 32, 'price': 36899, 'datetime': '2022-09-18T23:18:46', 'ecommerce_website_name': 'www.target.com', 'payment_txn_id': '6014e333', 'payment_txn_success': 'N', 'failure_reason': 'Insufficient Funds'}, {'order_id': 122, 'customer_id': 6046, 'product_id': 7667, 'product_name': 'Two furnitur', 'product_category': 'Furniture', 'payment_type': 'UPI', 'qty': 26, 'price': 19794, 'datetime': '2024-03-07T01:32:29', 'ecommerce_website_name': 'www.target.com', 'payment_txn_id': 'c5c52e04', 'payment_txn_success': 'N', 'failure_reason': 'Card Expired'}, {'order_id': 123, 'customer_id': 7169, 'product_id': 7364, 'product_name': 'This home & kitche', 'product_category': 'Home & Kitchen', 'payment_type': 'UPI', 'qty': 31, 'price': 29410, 'datetime': '2023-04-24T14:35:01', 'ecommerce_website_name': 'www.flipkart.com', 'payment_txn_id': '106c3569', 'payment_txn_success': 'N', 'failure_reason': 'Transaction Timeout'}, {'order_id': 124, 'customer_id': 8381, 'product_id': 8410, 'product_name': 'Value grocerie', 'product_category': 'Groceries', 'payment_type': 'Wallet', 'qty': 4, 'price': 35995, 'datetime': '2021-11-16T07:56:31', 'ecommerce_website_name': 'www.alibaba.com', 'payment_txn_id': '1efdf399', 'payment_txn_success': 'Y', 'failure_reason': ''}, {'order_id': 125, 'customer_id': 5220, 'product_id': 6714, 'product_name': 'Analysis stationer', 'product_category': 'Stationery', 'payment_type': 'Card', 'qty': 27, 'price': 34975, 'datetime': '2024-03-03T10:13:49', 'ecommerce_website_name': 'www.bestbuy.com', 'payment_txn_id': '78623911', 'payment_txn_success': 'Y', 'failure_reason': ''}, {'order_id': 126, 'customer_id': 7309, 'product_id': 9725, 'product_name': 'Piece stationer', 'product_category': 'Stationery', 'payment_type': 'Internet Banking', 'qty': 18, 'price': 30353, 'datetime': '2024-03-30T03:58:40', 'ecommerce_website_name': 'www.tatacliq.com', 'payment_txn_id': '62f0f0cb', 'payment_txn_success': 'N', 'failure_reason': 'Card Expired'}, {'order_id': 127, 'customer_id': 3870, 'product_id': 2978, 'product_name': 'Develop stationer', 'product_category': 'Stationery', 'payment_type': 'UPI', 'qty': 9, 'price': 96707, 'datetime': '2021-10-04T17:43:32', 'ecommerce_website_name': 'www.ebay.in', 'payment_txn_id': 'e483e80b', 'payment_txn_success': 'N', 'failure_reason': 'Invalid CVV'}, {'order_id': 128, 'customer_id': 4529, 'product_id': 4931, 'product_name': 'Item sport', 'product_category': 'Sports', 'payment_type': 'UPI', 'qty': 37, 'price': 98696, 'datetime': '2021-10-20T06:19:46', 'ecommerce_website_name': 'www.bestbuy.com', 'payment_txn_id': '186b3700', 'payment_txn_success': 'N', 'failure_reason': 'Card Expired'}, {'order_id': 129, 'customer_id': 8381, 'product_id': 4850, 'product_name': 'Matter clothin', 'product_category': 'Clothing', 'payment_type': 'Internet Banking', 'qty': 3, 'price': 28502, 'datetime': '2023-07-28T01:22:59', 'ecommerce_website_name': 'www.alibaba.com', 'payment_txn_id': '619ec07d', 'payment_txn_success': 'Y', 'failure_reason': ''}, {'order_id': 130, 'customer_id': 5522, 'product_id': 4576, 'product_name': 'Minute electronic', 'product_category': 'Electronics', 'payment_type': 'Wallet', 'qty': 28, 'price': 36120, 'datetime': '2022-10-29T06:21:24', 'ecommerce_website_name': 'www.amazon.in', 'payment_txn_id': '299fa9e6', 'payment_txn_success': 'N', 'failure_reason': 'Invalid CVV'}, {'order_id': 131, 'customer_id': 3259, 'product_id': 5179, 'product_name': 'Fly electronic', 'product_category': 'Electronics', 'payment_type': 'Card', 'qty': 27, 'price': 90663, 'datetime': '2024-06-09T05:58:01', 'ecommerce_website_name': 'www.flipkart.com', 'payment_txn_id': '7a8ae78e', 'payment_txn_success': 'N', 'failure_reason': 'Transaction Timeout'}, {'order_id': 132, 'customer_id': 2686, 'product_id': 1488, 'product_name': 'Property clothin', 'product_category': 'Clothing', 'payment_type': 'UPI', 'qty': 1, 'price': 44766, 'datetime': '2022-05-01T17:56:07', 'ecommerce_website_name': 'www.walmart.com', 'payment_txn_id': '2a66897b', 'payment_txn_success': 'N', 'failure_reason': 'Insufficient Funds'}, {'order_id': 133, 'customer_id': 6474, 'product_id': 3887, 'product_name': 'Example grocerie', 'product_category': 'Groceries', 'payment_type': 'Wallet', 'qty': 38, 'price': 83465, 'datetime': '2022-11-02T01:15:33', 'ecommerce_website_name': 'www.bestbuy.com', 'payment_txn_id': 'c27a9cf4', 'payment_txn_success': 'N', 'failure_reason': 'Card Expired'}, {'order_id': 134, 'customer_id': 9229, 'product_id': 9914, 'product_name': 'Assume electronic', 'product_category': 'Electronics', 'payment_type': 'Wallet', 'qty': 29, 'price': 36423, 'datetime': '2023-11-27T01:04:49', 'ecommerce_website_name': 'www.etsy.com', 'payment_txn_id': 'e8f5e13d', 'payment_txn_success': 'N', 'failure_reason': 'Blocked Card'}, {'order_id': 135, 'customer_id': 3953, 'product_id': 8341, 'product_name': 'Machine furnitur', 'product_category': 'Furniture', 'payment_type': 'Internet Banking', 'qty': 16, 'price': 47623, 'datetime': '2021-08-13T18:43:58', 'ecommerce_website_name': 'www.ebay.in', 'payment_txn_id': '2d5c3a69', 'payment_txn_success': 'N', 'failure_reason': 'Transaction Timeout'}, {'order_id': 136, 'customer_id': 6073, 'product_id': 4890, 'product_name': 'Discuss furnitur', 'product_category': 'Furniture', 'payment_type': 'Wallet', 'qty': 11, 'price': 95615, 'datetime': '2023-12-10T15:16:32', 'ecommerce_website_name': 'www.ebay.in', 'payment_txn_id': '42d7aa09', 'payment_txn_success': 'Y', 'failure_reason': ''}, {'order_id': 137, 'customer_id': 7590, 'product_id': 4882, 'product_name': 'Single stationer', 'product_category': 'Stationery', 'payment_type': 'Wallet', 'qty': 19, 'price': 48590, 'datetime': '2022-02-15T11:00:14', 'ecommerce_website_name': 'www.etsy.com', 'payment_txn_id': '5b1f74cd', 'payment_txn_success': 'N', 'failure_reason': 'Blocked Card'}, {'order_id': 138, 'customer_id': 7561, 'product_id': 5183, 'product_name': 'Movie toy', 'product_category': 'Toys', 'payment_type': 'Card', 'qty': 13, 'price': 77778, 'datetime': '2022-05-04T02:39:57', 'ecommerce_website_name': 'www.amazon.in', 'payment_txn_id': 'c8addbdd', 'payment_txn_success': 'N', 'failure_reason': 'Blocked Card'}, {'order_id': 139, 'customer_id': 7309, 'product_id': 1376, 'product_name': 'Single book', 'product_category': 'Books', 'payment_type': 'Card', 'qty': 31, 'price': 77754, 'datetime': '2023-07-08T18:19:04', 'ecommerce_website_name': 'www.flipkart.com', 'payment_txn_id': '471ec075', 'payment_txn_success': 'Y', 'failure_reason': ''}, {'order_id': 140, 'customer_id': 5647, 'product_id': 3037, 'product_name': 'Find beaut', 'product_category': 'Beauty', 'payment_type': 'Wallet', 'qty': 6, 'price': 49720, 'datetime': '2023-10-27T15:11:34', 'ecommerce_website_name': 'www.walmart.com', 'payment_txn_id': 'aab74cc1', 'payment_txn_success': 'Y', 'failure_reason': ''}, {'order_id': 141, 'customer_id': 2052, 'product_id': 1597, 'product_name': 'Born beaut', 'product_category': 'Beauty', 'payment_type': 'UPI', 'qty': 35, 'price': 40998, 'datetime': '2022-06-03T09:45:20', 'ecommerce_website_name': 'www.amazon.com', 'payment_txn_id': 'a3ff3842', 'payment_txn_success': 'N', 'failure_reason': 'Card Expired'}, {'order_id': 142, 'customer_id': 9503, 'product_id': 8837, 'product_name': 'We home & kitche', 'product_category': 'Home & Kitchen', 'payment_type': 'Internet Banking', 'qty': 14, 'price': 9425, 'datetime': '2024-07-03T23:26:58', 'ecommerce_website_name': 'www.flipkart.com', 'payment_txn_id': '9a9a8bab', 'payment_txn_success': 'Y', 'failure_reason': ''}, {'order_id': 143, 'customer_id': 7561, 'product_id': 7298, 'product_name': 'History home & kitche', 'product_category': 'Home & Kitchen', 'payment_type': 'Internet Banking', 'qty': 22, 'price': 49163, 'datetime': '2023-01-15T11:16:56', 'ecommerce_website_name': 'www.amazon.com', 'payment_txn_id': 'ea19b2ad', 'payment_txn_success': 'Y', 'failure_reason': ''}, {'order_id': 144, 'customer_id': 2052, 'product_id': 1032, 'product_name': 'Data clothin', 'product_category': 'Clothing', 'payment_type': 'UPI', 'qty': 42, 'price': 88213, 'datetime': '2023-06-20T17:20:05', 'ecommerce_website_name': 'www.walmart.com', 'payment_txn_id': 'e8e0e888', 'payment_txn_success': 'Y', 'failure_reason': ''}, {'order_id': 145, 'customer_id': 5301, 'product_id': 1562, 'product_name': 'Six clothin', 'product_category': 'Clothing', 'payment_type': 'Internet Banking', 'qty': 31, 'price': 24794, 'datetime': '2024-06-25T10:08:59', 'ecommerce_website_name': 'www.etsy.com', 'payment_txn_id': '32d38eff', 'payment_txn_success': 'Y', 'failure_reason': ''}, {'order_id': 146, 'customer_id': 8381, 'product_id': 9778, 'product_name': 'Leader sport', 'product_category': 'Sports', 'payment_type': 'Internet Banking', 'qty': 10, 'price': 84166, 'datetime': '2021-08-26T14:18:18', 'ecommerce_website_name': 'www.flipkart.com', 'payment_txn_id': '0ec0ee5d', 'payment_txn_success': 'N', 'failure_reason': 'Insufficient Funds'}, {'order_id': 147, 'customer_id': 7489, 'product_id': 3836, 'product_name': 'Fish stationer', 'product_category': 'Stationery', 'payment_type': 'UPI', 'qty': 42, 'price': 17277, 'datetime': '2022-05-13T03:16:44', 'ecommerce_website_name': 'www.walmart.com', 'payment_txn_id': 'bab8a18c', 'payment_txn_success': 'N', 'failure_reason': 'Card Expired'}, {'order_id': 148, 'customer_id': 6461, 'product_id': 853, 'product_name': 'Loss book', 'product_category': 'Books', 'payment_type': 'Internet Banking', 'qty': 50, 'price': 45935, 'datetime': '2024-05-10T14:22:46', 'ecommerce_website_name': 'www.etsy.com', 'payment_txn_id': '2a0f4081', 'payment_txn_success': 'Y', 'failure_reason': ''}, {'order_id': 149, 'customer_id': 8256, 'product_id': 5635, 'product_name': 'If grocerie', 'product_category': 'Groceries', 'payment_type': 'Internet Banking', 'qty': 9, 'price': 21040, 'datetime': '2022-01-20T23:31:49', 'ecommerce_website_name': 'www.flipkart.com', 'payment_txn_id': '43ec6f62', 'payment_txn_success': 'Y', 'failure_reason': ''}, {'order_id': 150, 'customer_id': 6229, 'product_id': 7167, 'product_name': 'North electronic', 'product_category': 'Electronics', 'payment_type': 'Internet Banking', 'qty': 8, 'price': 15827, 'datetime': '2022-09-06T04:02:44', 'ecommerce_website_name': 'www.amazon.com', 'payment_txn_id': '557e0778', 'payment_txn_success': 'N', 'failure_reason': 'Insufficient Funds'}, {'order_id': 151, 'customer_id': 1490, 'product_id': 2929, 'product_name': 'Nation clothin', 'product_category': 'Clothing', 'payment_type': 'UPI', 'qty': 26, 'price': 72639, 'datetime': '2022-12-16T16:19:48', 'ecommerce_website_name': 'www.bestbuy.com', 'payment_txn_id': '2eee89a5', 'payment_txn_success': 'N', 'failure_reason': 'Transaction Timeout'}, {'order_id': 152, 'customer_id': 7309, 'product_id': 5245, 'product_name': 'Record beaut', 'product_category': 'Beauty', 'payment_type': 'Card', 'qty': 39, 'price': 62930, 'datetime': '2022-11-20T04:38:09', 'ecommerce_website_name': 'www.tatacliq.com', 'payment_txn_id': '3efb9e72', 'payment_txn_success': 'N', 'failure_reason': 'Insufficient Funds'}, {'order_id': 153, 'customer_id': 956, 'product_id': 1631, 'product_name': 'Street furnitur', 'product_category': 'Furniture', 'payment_type': 'Card', 'qty': 14, 'price': 25668, 'datetime': '2023-07-28T22:46:08', 'ecommerce_website_name': 'www.etsy.com', 'payment_txn_id': 'ac3cbb11', 'payment_txn_success': 'Y', 'failure_reason': ''}, {'order_id': 154, 'customer_id': 491, 'product_id': 427, 'product_name': 'Physical clothin', 'product_category': 'Clothing', 'payment_type': 'Internet Banking', 'qty': 27, 'price': 9148, 'datetime': '2023-08-12T12:37:21', 'ecommerce_website_name': 'www.alibaba.com', 'payment_txn_id': 'b0bf4b20', 'payment_txn_success': 'N', 'failure_reason': 'Blocked Card'}, {'order_id': 155, 'customer_id': 9659, 'product_id': 282, 'product_name': 'Trial home & kitche', 'product_category': 'Home & Kitchen', 'payment_type': 'Internet Banking', 'qty': 28, 'price': 43750, 'datetime': '2022-11-13T03:17:10', 'ecommerce_website_name': 'www.target.com', 'payment_txn_id': 'e7720dd1', 'payment_txn_success': 'N', 'failure_reason': 'Insufficient Funds'}, {'order_id': 156, 'customer_id': 2695, 'product_id': 1397, 'product_name': 'Box furnitur', 'product_category': 'Furniture', 'payment_type': 'Wallet', 'qty': 27, 'price': 27969, 'datetime': '2024-07-18T00:48:28', 'ecommerce_website_name': 'www.alibaba.com', 'payment_txn_id': 'd99ca208', 'payment_txn_success': 'N', 'failure_reason': 'Insufficient Funds'}, {'order_id': 157, 'customer_id': 5200, 'product_id': 3924, 'product_name': 'Despite home & kitche', 'product_category': 'Home & Kitchen', 'payment_type': 'Internet Banking', 'qty': 37, 'price': 87357, 'datetime': '2022-03-02T05:52:19', 'ecommerce_website_name': 'www.ebay.in', 'payment_txn_id': '100299b5', 'payment_txn_success': 'Y', 'failure_reason': ''}, {'order_id': 158, 'customer_id': 8618, 'product_id': 5758, 'product_name': 'Beat book', 'product_category': 'Books', 'payment_type': 'Card', 'qty': 10, 'price': 15652, 'datetime': '2023-06-27T09:56:32', 'ecommerce_website_name': 'www.target.com', 'payment_txn_id': '2e738da5', 'payment_txn_success': 'N', 'failure_reason': 'Card Expired'}, {'order_id': 159, 'customer_id': 8381, 'product_id': 5540, 'product_name': 'Student book', 'product_category': 'Books', 'payment_type': 'Card', 'qty': 30, 'price': 94139, 'datetime': '2022-10-04T07:37:46', 'ecommerce_website_name': 'www.target.com', 'payment_txn_id': '748d616e', 'payment_txn_success': 'N', 'failure_reason': 'Card Expired'}, {'order_id': 160, 'customer_id': 5539, 'product_id': 4848, 'product_name': 'Interesting book', 'product_category': 'Books', 'payment_type': 'UPI', 'qty': 10, 'price': 46385, 'datetime': '2022-07-19T18:42:15', 'ecommerce_website_name': 'www.target.com', 'payment_txn_id': 'e8ca293f', 'payment_txn_success': 'N', 'failure_reason': 'Blocked Card'}, {'order_id': 161, 'customer_id': 4063, 'product_id': 9175, 'product_name': 'Left home & kitche', 'product_category': 'Home & Kitchen', 'payment_type': 'UPI', 'qty': 27, 'price': 41247, 'datetime': '2024-02-25T03:28:56', 'ecommerce_website_name': 'www.target.com', 'payment_txn_id': '0333ecf4', 'payment_txn_success': 'Y', 'failure_reason': ''}, {'order_id': 162, 'customer_id': 8618, 'product_id': 7760, 'product_name': 'Year stationer', 'product_category': 'Stationery', 'payment_type': 'Card', 'qty': 42, 'price': 66651, 'datetime': '2022-05-20T09:14:10', 'ecommerce_website_name': 'www.amazon.com', 'payment_txn_id': 'fb20a290', 'payment_txn_success': 'Y', 'failure_reason': ''}, {'order_id': 163, 'customer_id': 5539, 'product_id': 584, 'product_name': 'Personal grocerie', 'product_category': 'Groceries', 'payment_type': 'Wallet', 'qty': 41, 'price': 25836, 'datetime': '2021-12-18T01:28:50', 'ecommerce_website_name': 'www.alibaba.com', 'payment_txn_id': 'f020deec', 'payment_txn_success': 'Y', 'failure_reason': ''}, {'order_id': 164, 'customer_id': 145, 'product_id': 4007, 'product_name': 'Cost sport', 'product_category': 'Sports', 'payment_type': 'Card', 'qty': 42, 'price': 93495, 'datetime': '2023-12-27T09:38:07', 'ecommerce_website_name': 'www.amazon.in', 'payment_txn_id': 'ab169a9d', 'payment_txn_success': 'Y', 'failure_reason': ''}, {'order_id': 165, 'customer_id': 4633, 'product_id': 2436, 'product_name': 'Trouble electronic', 'product_category': 'Electronics', 'payment_type': 'Card', 'qty': 17, 'price': 41715, 'datetime': '2021-12-16T04:24:02', 'ecommerce_website_name': 'www.walmart.com', 'payment_txn_id': '91d755f3', 'payment_txn_success': 'N', 'failure_reason': 'Transaction Timeout'}, {'order_id': 166, 'customer_id': 3340, 'product_id': 4491, 'product_name': 'Talk grocerie', 'product_category': 'Groceries', 'payment_type': 'Card', 'qty': 35, 'price': 92070, 'datetime': '2023-08-10T17:12:15', 'ecommerce_website_name': 'www.walmart.com', 'payment_txn_id': 'f3685afa', 'payment_txn_success': 'N', 'failure_reason': 'Card Expired'}, {'order_id': 167, 'customer_id': 7309, 'product_id': 4708, 'product_name': 'Field clothin', 'product_category': 'Clothing', 'payment_type': 'UPI', 'qty': 31, 'price': 68866, 'datetime': '2022-10-27T16:34:00', 'ecommerce_website_name': 'www.flipkart.com', 'payment_txn_id': 'fa7c9bad', 'payment_txn_success': 'N', 'failure_reason': 'Insufficient Funds'}, {'order_id': 168, 'customer_id': 8381, 'product_id': 8026, 'product_name': 'Protect electronic', 'product_category': 'Electronics', 'payment_type': 'UPI', 'qty': 2, 'price': 17156, 'datetime': '2022-05-13T00:33:58', 'ecommerce_website_name': 'www.target.com', 'payment_txn_id': 'ee2cb11b', 'payment_txn_success': 'N', 'failure_reason': 'Blocked Card'}, {'order_id': 169, 'customer_id': 650, 'product_id': 6882, 'product_name': 'Local grocerie', 'product_category': 'Groceries', 'payment_type': 'Card', 'qty': 42, 'price': 51508, 'datetime': '2022-10-30T02:28:01', 'ecommerce_website_name': 'www.flipkart.com', 'payment_txn_id': '9eaab596', 'payment_txn_success': 'N', 'failure_reason': 'Insufficient Funds'}, {'order_id': 170, 'customer_id': 8384, 'product_id': 7752, 'product_name': 'Himself home & kitche', 'product_category': 'Home & Kitchen', 'payment_type': 'UPI', 'qty': 49, 'price': 19142, 'datetime': '2023-07-17T08:37:37', 'ecommerce_website_name': 'www.amazon.in', 'payment_txn_id': '12ef6889', 'payment_txn_success': 'N', 'failure_reason': 'Blocked Card'}, {'order_id': 171, 'customer_id': 4925, 'product_id': 3932, 'product_name': 'Speak grocerie', 'product_category': 'Groceries', 'payment_type': 'Internet Banking', 'qty': 15, 'price': 5935, 'datetime': '2022-02-09T09:47:55', 'ecommerce_website_name': 'www.flipkart.com', 'payment_txn_id': 'bd3898ca', 'payment_txn_success': 'N', 'failure_reason': 'Blocked Card'}, {'order_id': 172, 'customer_id': 5989, 'product_id': 6492, 'product_name': 'Official clothin', 'product_category': 'Clothing', 'payment_type': 'Internet Banking', 'qty': 43, 'price': 94055, 'datetime': '2021-12-15T10:29:47', 'ecommerce_website_name': 'www.tatacliq.com', 'payment_txn_id': 'b20cff4f', 'payment_txn_success': 'Y', 'failure_reason': ''}, {'order_id': 173, 'customer_id': 5539, 'product_id': 9074, 'product_name': 'Stay electronic', 'product_category': 'Electronics', 'payment_type': 'Card', 'qty': 39, 'price': 54689, 'datetime': '2023-03-17T22:18:42', 'ecommerce_website_name': 'www.amazon.in', 'payment_txn_id': 'fdcd6dc0', 'payment_txn_success': 'Y', 'failure_reason': ''}, {'order_id': 174, 'customer_id': 8618, 'product_id': 9182, 'product_name': 'Big stationer', 'product_category': 'Stationery', 'payment_type': 'UPI', 'qty': 22, 'price': 62555, 'datetime': '2022-04-05T16:25:26', 'ecommerce_website_name': 'www.amazon.com', 'payment_txn_id': '0fc65c76', 'payment_txn_success': 'Y', 'failure_reason': ''}, {'order_id': 175, 'customer_id': 5812, 'product_id': 4530, 'product_name': 'President beaut', 'product_category': 'Beauty', 'payment_type': 'Internet Banking', 'qty': 46, 'price': 2269, 'datetime': '2024-05-02T18:08:02', 'ecommerce_website_name': 'www.bestbuy.com', 'payment_txn_id': 'a99ee3b3', 'payment_txn_success': 'Y', 'failure_reason': ''}, {'order_id': 176, 'customer_id': 7393, 'product_id': 8135, 'product_name': 'Maybe electronic', 'product_category': 'Electronics', 'payment_type': 'UPI', 'qty': 27, 'price': 89402, 'datetime': '2024-03-04T11:40:37', 'ecommerce_website_name': 'www.ebay.in', 'payment_txn_id': 'f76beb11', 'payment_txn_success': 'N', 'failure_reason': 'Blocked Card'}, {'order_id': 177, 'customer_id': 1912, 'product_id': 5837, 'product_name': 'Now stationer', 'product_category': 'Stationery', 'payment_type': 'UPI', 'qty': 1, 'price': 37697, 'datetime': '2021-12-07T07:29:03', 'ecommerce_website_name': 'www.amazon.com', 'payment_txn_id': '8d30cf7f', 'payment_txn_success': 'Y', 'failure_reason': ''}, {'order_id': 178, 'customer_id': 7309, 'product_id': 6480, 'product_name': 'Side stationer', 'product_category': 'Stationery', 'payment_type': 'UPI', 'qty': 1, 'price': 13277, 'datetime': '2023-01-09T23:18:07', 'ecommerce_website_name': 'www.amazon.com', 'payment_txn_id': 'da2e091e', 'payment_txn_success': 'N', 'failure_reason': 'Insufficient Funds'}, {'order_id': 179, 'customer_id': 3937, 'product_id': 9028, 'product_name': 'Over furnitur', 'product_category': 'Furniture', 'payment_type': 'Wallet', 'qty': 45, 'price': 87114, 'datetime': '2022-02-04T21:28:20', 'ecommerce_website_name': 'www.bestbuy.com', 'payment_txn_id': 'c27e023b', 'payment_txn_success': 'Y', 'failure_reason': ''}, {'order_id': 180, 'customer_id': 2777, 'product_id': 6309, 'product_name': 'Partner beaut', 'product_category': 'Beauty', 'payment_type': 'Card', 'qty': 46, 'price': 41900, 'datetime': '2024-03-20T17:11:01', 'ecommerce_website_name': 'www.ebay.in', 'payment_txn_id': 'ab4a5c90', 'payment_txn_success': 'N', 'failure_reason': 'Insufficient Funds'}, {'order_id': 181, 'customer_id': 2686, 'product_id': 7722, 'product_name': 'Also home & kitche', 'product_category': 'Home & Kitchen', 'payment_type': 'Internet Banking', 'qty': 31, 'price': 23320, 'datetime': '2023-01-29T17:14:51', 'ecommerce_website_name': 'www.alibaba.com', 'payment_txn_id': '121ebb5d', 'payment_txn_success': 'Y', 'failure_reason': ''}, {'order_id': 182, 'customer_id': 5539, 'product_id': 5965, 'product_name': 'Save grocerie', 'product_category': 'Groceries', 'payment_type': 'Wallet', 'qty': 5, 'price': 76054, 'datetime': '2022-02-21T18:19:53', 'ecommerce_website_name': 'www.target.com', 'payment_txn_id': 'c64fb87d', 'payment_txn_success': 'Y', 'failure_reason': ''}, {'order_id': 183, 'customer_id': 8381, 'product_id': 1281, 'product_name': 'Order book', 'product_category': 'Books', 'payment_type': 'UPI', 'qty': 33, 'price': 16910, 'datetime': '2022-12-16T20:03:32', 'ecommerce_website_name': 'www.target.com', 'payment_txn_id': '3a55340c', 'payment_txn_success': 'N', 'failure_reason': 'Card Expired'}, {'order_id': 184, 'customer_id': 1912, 'product_id': 9929, 'product_name': 'Public grocerie', 'product_category': 'Groceries', 'payment_type': 'Card', 'qty': 36, 'price': 11517, 'datetime': '2021-07-27T17:03:21', 'ecommerce_website_name': 'www.tatacliq.com', 'payment_txn_id': 'dfd77540', 'payment_txn_success': 'N', 'failure_reason': 'Transaction Timeout'}, {'order_id': 185, 'customer_id': 1490, 'product_id': 999, 'product_name': 'Choose beaut', 'product_category': 'Beauty', 'payment_type': 'Internet Banking', 'qty': 42, 'price': 35108, 'datetime': '2023-02-24T02:44:27', 'ecommerce_website_name': 'www.walmart.com', 'payment_txn_id': 'be2ef132', 'payment_txn_success': 'Y', 'failure_reason': ''}, {'order_id': 186, 'customer_id': 8381, 'product_id': 7221, 'product_name': 'Black electronic', 'product_category': 'Electronics', 'payment_type': 'Internet Banking', 'qty': 10, 'price': 30135, 'datetime': '2023-08-04T07:35:18', 'ecommerce_website_name': 'www.target.com', 'payment_txn_id': '64fd3e73', 'payment_txn_success': 'Y', 'failure_reason': ''}, {'order_id': 187, 'customer_id': 2414, 'product_id': 5184, 'product_name': 'Become clothin', 'product_category': 'Clothing', 'payment_type': 'Card', 'qty': 27, 'price': 23447, 'datetime': '2023-04-23T18:44:32', 'ecommerce_website_name': 'www.amazon.com', 'payment_txn_id': '36e68fb3', 'payment_txn_success': 'N', 'failure_reason': 'Invalid CVV'}, {'order_id': 188, 'customer_id': 9428, 'product_id': 1456, 'product_name': 'Him sport', 'product_category': 'Sports', 'payment_type': 'Internet Banking', 'qty': 5, 'price': 88275, 'datetime': '2024-06-20T04:11:49', 'ecommerce_website_name': 'www.ebay.in', 'payment_txn_id': '4752e2a9', 'payment_txn_success': 'N', 'failure_reason': 'Blocked Card'}, {'order_id': 189, 'customer_id': 7878, 'product_id': 8721, 'product_name': 'Raise clothin', 'product_category': 'Clothing', 'payment_type': 'Wallet', 'qty': 9, 'price': 28265, 'datetime': '2024-05-21T01:16:45', 'ecommerce_website_name': 'www.tatacliq.com', 'payment_txn_id': '20095ebe', 'payment_txn_success': 'N', 'failure_reason': 'Blocked Card'}, {'order_id': 190, 'customer_id': 8320, 'product_id': 5974, 'product_name': 'Our beaut', 'product_category': 'Beauty', 'payment_type': 'Internet Banking', 'qty': 14, 'price': 47094, 'datetime': '2022-06-30T12:58:42', 'ecommerce_website_name': 'www.amazon.in', 'payment_txn_id': '1167001b', 'payment_txn_success': 'N', 'failure_reason': 'Invalid CVV'}, {'order_id': 191, 'customer_id': 4040, 'product_id': 3035, 'product_name': 'Bag stationer', 'product_category': 'Stationery', 'payment_type': 'Card', 'qty': 41, 'price': 5022, 'datetime': '2023-12-15T03:26:03', 'ecommerce_website_name': 'www.walmart.com', 'payment_txn_id': 'f802184c', 'payment_txn_success': 'N', 'failure_reason': 'Insufficient Funds'}, {'order_id': 192, 'customer_id': 3634, 'product_id': 8233, 'product_name': 'Media beaut', 'product_category': 'Beauty', 'payment_type': 'Wallet', 'qty': 43, 'price': 58451, 'datetime': '2022-09-18T13:59:26', 'ecommerce_website_name': 'www.tatacliq.com', 'payment_txn_id': 'a5732766', 'payment_txn_success': 'Y', 'failure_reason': ''}, {'order_id': 193, 'customer_id': 2572, 'product_id': 9337, 'product_name': 'Along beaut', 'product_category': 'Beauty', 'payment_type': 'Card', 'qty': 19, 'price': 86390, 'datetime': '2024-03-30T10:17:17', 'ecommerce_website_name': 'www.target.com', 'payment_txn_id': '52853071', 'payment_txn_success': 'N', 'failure_reason': 'Transaction Timeout'}, {'order_id': 194, 'customer_id': 7740, 'product_id': 2300, 'product_name': 'World home & kitche', 'product_category': 'Home & Kitchen', 'payment_type': 'Card', 'qty': 19, 'price': 94875, 'datetime': '2023-03-12T17:40:12', 'ecommerce_website_name': 'www.tatacliq.com', 'payment_txn_id': 'ac2061b7', 'payment_txn_success': 'N', 'failure_reason': 'Insufficient Funds'}, {'order_id': 195, 'customer_id': 4061, 'product_id': 7789, 'product_name': 'Pm stationer', 'product_category': 'Stationery', 'payment_type': 'Internet Banking', 'qty': 16, 'price': 7574, 'datetime': '2022-05-11T07:43:19', 'ecommerce_website_name': 'www.walmart.com', 'payment_txn_id': 'a735f8f9', 'payment_txn_success': 'N', 'failure_reason': 'Insufficient Funds'}, {'order_id': 196, 'customer_id': 9243, 'product_id': 4131, 'product_name': 'Much sport', 'product_category': 'Sports', 'payment_type': 'Internet Banking', 'qty': 29, 'price': 7191, 'datetime': '2023-05-16T06:56:06', 'ecommerce_website_name': 'www.target.com', 'payment_txn_id': 'edabe47a', 'payment_txn_success': 'N', 'failure_reason': 'Transaction Timeout'}, {'order_id': 197, 'customer_id': 6754, 'product_id': 1659, 'product_name': 'Strategy electronic', 'product_category': 'Electronics', 'payment_type': 'UPI', 'qty': 46, 'price': 46555, 'datetime': '2023-01-18T13:35:39', 'ecommerce_website_name': 'www.walmart.com', 'payment_txn_id': '8d9bed5d', 'payment_txn_success': 'Y', 'failure_reason': ''}, {'order_id': 198, 'customer_id': 6604, 'product_id': 4572, 'product_name': 'Behind furnitur', 'product_category': 'Furniture', 'payment_type': 'Internet Banking', 'qty': 6, 'price': 12416, 'datetime': '2023-04-11T09:37:46', 'ecommerce_website_name': 'www.target.com', 'payment_txn_id': '96d1c550', 'payment_txn_success': 'N', 'failure_reason': 'Card Expired'}, {'order_id': 199, 'customer_id': 6052, 'product_id': 4255, 'product_name': 'Music sport', 'product_category': 'Sports', 'payment_type': 'Card', 'qty': 44, 'price': 99151, 'datetime': '2021-11-24T13:10:08', 'ecommerce_website_name': 'www.target.com', 'payment_txn_id': 'f2d542ad', 'payment_txn_success': 'Y', 'failure_reason': ''}, {'order_id': 200, 'customer_id': 3634, 'product_id': 3724, 'product_name': 'He furnitur', 'product_category': 'Furniture', 'payment_type': 'Card', 'qty': 20, 'price': 80841, 'datetime': '2021-11-22T15:34:04', 'ecommerce_website_name': 'www.bestbuy.com', 'payment_txn_id': '7090d40a', 'payment_txn_success': 'Y', 'failure_reason': ''}]\n"
     ]
    }
   ],
   "source": [
    "import json\n",
    "\n",
    "with open('transaction_logs.json', 'r') as file:\n",
    "    data = json.load(file)\n",
    "\n",
    "print(data[:200])"
   ]
  },
  {
   "cell_type": "code",
   "execution_count": 17,
   "id": "fe120fdf-cdd3-4c18-a82c-66c4f84a88bf",
   "metadata": {},
   "outputs": [
    {
     "name": "stdout",
     "output_type": "stream",
     "text": [
      "   customer_id     customer_name     country           city\n",
      "0         9780      Jessica Hart  Martinique  South William\n",
      "1         9169         Amy Clark  Kazakhstan     Davisville\n",
      "2         6631  Danielle Elliott     Armenia     East Danny\n",
      "3         8772     Robin Mendoza      Uganda    Johnsonbury\n",
      "4         8913    Abigail Miller     Namibia  Wrightchester\n"
     ]
    }
   ],
   "source": [
    "customer_df = pd.read_json(r\"customers.json\")\n",
    "print(customer_df.head())"
   ]
  },
  {
   "cell_type": "code",
   "execution_count": 14,
   "id": "a3872b65-8468-421b-b387-4b2526a27a68",
   "metadata": {},
   "outputs": [
    {
     "name": "stdout",
     "output_type": "stream",
     "text": [
      "   order_id  customer_id  product_id           product_name product_category  \\\n",
      "0         1         1731        8609  Central home & kitche   Home & Kitchen   \n",
      "1         2         5539        2409             Upon sport           Sports   \n",
      "2         3         3507        1145       Across stationer       Stationery   \n",
      "3         4         4826        8375    Start home & kitche   Home & Kitchen   \n",
      "4         5         6538        2149             Draw beaut           Beauty   \n",
      "\n",
      "  payment_type  qty  price            datetime ecommerce_website_name  \\\n",
      "0       Wallet   25  64216 2021-07-26 20:16:14        www.bestbuy.com   \n",
      "1         Card   34  69877 2021-08-25 03:41:32       www.flipkart.com   \n",
      "2         Card   28  35491 2024-06-21 21:39:21         www.target.com   \n",
      "3         Card   33  39540 2022-09-17 13:52:11          www.amazon.in   \n",
      "4         Card   27  80635 2022-03-09 07:58:08           www.etsy.com   \n",
      "\n",
      "  payment_txn_id payment_txn_success       failure_reason  \n",
      "0       a395e8c7                   N         Card Expired  \n",
      "1       b40791f8                   N          Invalid CVV  \n",
      "2       7fb6cca9                   N         Blocked Card  \n",
      "3       cae677f3                   N  Transaction Timeout  \n",
      "4       fbce1649                   N          Invalid CVV  \n"
     ]
    }
   ],
   "source": [
    "transaction_df = pd.read_json(r\"transaction_logs.json\")\n",
    "print(transaction_df.head())"
   ]
  },
  {
   "cell_type": "code",
   "execution_count": 18,
   "id": "309fed4e-0e73-41fa-8cc9-226d92117c58",
   "metadata": {},
   "outputs": [
    {
     "name": "stdout",
     "output_type": "stream",
     "text": [
      "<class 'pandas.core.frame.DataFrame'>\n",
      "RangeIndex: 1000 entries, 0 to 999\n",
      "Data columns (total 4 columns):\n",
      " #   Column         Non-Null Count  Dtype \n",
      "---  ------         --------------  ----- \n",
      " 0   customer_id    1000 non-null   int64 \n",
      " 1   customer_name  1000 non-null   object\n",
      " 2   country        1000 non-null   object\n",
      " 3   city           1000 non-null   object\n",
      "dtypes: int64(1), object(3)\n",
      "memory usage: 31.4+ KB\n",
      "None\n",
      "<class 'pandas.core.frame.DataFrame'>\n",
      "RangeIndex: 10000 entries, 0 to 9999\n",
      "Data columns (total 13 columns):\n",
      " #   Column                  Non-Null Count  Dtype         \n",
      "---  ------                  --------------  -----         \n",
      " 0   order_id                10000 non-null  int64         \n",
      " 1   customer_id             10000 non-null  int64         \n",
      " 2   product_id              10000 non-null  int64         \n",
      " 3   product_name            10000 non-null  object        \n",
      " 4   product_category        10000 non-null  object        \n",
      " 5   payment_type            10000 non-null  object        \n",
      " 6   qty                     10000 non-null  int64         \n",
      " 7   price                   10000 non-null  int64         \n",
      " 8   datetime                10000 non-null  datetime64[ns]\n",
      " 9   ecommerce_website_name  10000 non-null  object        \n",
      " 10  payment_txn_id          10000 non-null  object        \n",
      " 11  payment_txn_success     10000 non-null  object        \n",
      " 12  failure_reason          10000 non-null  object        \n",
      "dtypes: datetime64[ns](1), int64(5), object(7)\n",
      "memory usage: 1015.8+ KB\n",
      "None\n"
     ]
    }
   ],
   "source": [
    "# Summary statistics\n",
    "print(customer_df.info())\n",
    "print(transaction_df.info())\n"
   ]
  },
  {
   "cell_type": "code",
   "execution_count": 19,
   "id": "3384d825-bdc2-402c-811e-6251453f40fb",
   "metadata": {},
   "outputs": [
    {
     "name": "stdout",
     "output_type": "stream",
     "text": [
      "       customer_id\n",
      "count  1000.000000\n",
      "mean   5053.297000\n",
      "std    2792.627256\n",
      "min     102.000000\n",
      "25%    2662.000000\n",
      "50%    5156.000000\n",
      "75%    7395.000000\n",
      "max    9991.000000\n",
      "          order_id   customer_id   product_id           qty         price  \\\n",
      "count  10000.00000  10000.000000  10000.00000  10000.000000  10000.000000   \n",
      "mean    5000.50000   5540.854400   5153.96520     25.524800  49682.003700   \n",
      "min        1.00000    109.000000    201.00000      1.000000     10.000000   \n",
      "25%     2500.75000   3141.500000   2709.75000     13.000000  24704.750000   \n",
      "50%     5000.50000   5989.000000   5195.00000     26.000000  49245.500000   \n",
      "75%     7500.25000   8341.500000   7599.00000     38.000000  74755.000000   \n",
      "max    10000.00000   9991.000000   9996.00000     50.000000  99989.000000   \n",
      "std     2886.89568   2776.686488   2828.45628     14.456946  28860.567215   \n",
      "\n",
      "                            datetime  \n",
      "count                          10000  \n",
      "mean   2023-01-25 09:32:06.897900288  \n",
      "min              2021-07-24 00:13:42  \n",
      "25%       2022-04-29 00:09:34.500000  \n",
      "50%              2023-01-22 13:19:27  \n",
      "75%              2023-10-28 13:48:13  \n",
      "max              2024-07-23 08:41:09  \n",
      "std                              NaN  \n"
     ]
    }
   ],
   "source": [
    "# Describe numeric columns\n",
    "print(customer_df.describe())\n",
    "print(transaction_df.describe())"
   ]
  },
  {
   "cell_type": "code",
   "execution_count": 12,
   "id": "91a3d6a3-7501-4022-8ca1-5104cdf52a0d",
   "metadata": {},
   "outputs": [
    {
     "name": "stdout",
     "output_type": "stream",
     "text": [
      "customer_id      0\n",
      "customer_name    0\n",
      "country          0\n",
      "city             0\n",
      "dtype: int64\n",
      "order_id                  0\n",
      "customer_id               0\n",
      "product_id                0\n",
      "product_name              0\n",
      "product_category          0\n",
      "payment_type              0\n",
      "qty                       0\n",
      "price                     0\n",
      "datetime                  0\n",
      "ecommerce_website_name    0\n",
      "payment_txn_id            0\n",
      "payment_txn_success       0\n",
      "failure_reason            0\n",
      "dtype: int64\n",
      "0\n",
      "0\n"
     ]
    }
   ],
   "source": [
    "# Check for missing values\n",
    "print(customer_df.isnull().sum())\n",
    "print(transaction_df.isnull().sum())\n",
    "\n",
    "# Check for duplicates\n",
    "print(customer_df.duplicated().sum())\n",
    "print(transaction_df.duplicated().sum())"
   ]
  },
  {
   "cell_type": "code",
   "execution_count": 13,
   "id": "9ee58598-d3f8-47cd-a1ff-adb3a91e52b6",
   "metadata": {},
   "outputs": [],
   "source": [
    "curr,conn =create_database()"
   ]
  },
  {
   "cell_type": "code",
   "execution_count": 14,
   "id": "77104657-3b5c-43b8-8668-55976e55bc57",
   "metadata": {},
   "outputs": [],
   "source": [
    "customer_table = \"\"\"\n",
    "CREATE TABLE IF NOT EXISTS CUSTOMER(\n",
    "    customer_id INT PRIMARY KEY,\n",
    "    customer_name VARCHAR(255),\n",
    "    country VARCHAR(100),\n",
    "    city VARCHAR(100)\n",
    ");\n",
    "\"\"\"\n",
    "\n",
    "curr.execute(customer_table)\n",
    "conn.commit()"
   ]
  },
  {
   "cell_type": "code",
   "execution_count": 15,
   "id": "6d185b16-b0f4-4abd-ba3f-77390223432a",
   "metadata": {},
   "outputs": [],
   "source": [
    "customer_insert_query = \"\"\"\n",
    "                INSERT INTO Customer (customer_id, customer_name, country, city)\n",
    "                VALUES (%s, %s, %s, %s);\n",
    "            \"\"\"\n",
    "for i,row in customer_df.iterrows():\n",
    "    curr.execute(customer_insert_query,list(row))\n",
    "conn.commit()"
   ]
  },
  {
   "cell_type": "code",
   "execution_count": 16,
   "id": "635b5ff0-97cc-41de-a521-e8dc6f22c7f0",
   "metadata": {},
   "outputs": [
    {
     "data": {
      "text/html": [
       "<div>\n",
       "<style scoped>\n",
       "    .dataframe tbody tr th:only-of-type {\n",
       "        vertical-align: middle;\n",
       "    }\n",
       "\n",
       "    .dataframe tbody tr th {\n",
       "        vertical-align: top;\n",
       "    }\n",
       "\n",
       "    .dataframe thead th {\n",
       "        text-align: right;\n",
       "    }\n",
       "</style>\n",
       "<table border=\"1\" class=\"dataframe\">\n",
       "  <thead>\n",
       "    <tr style=\"text-align: right;\">\n",
       "      <th></th>\n",
       "      <th>order_id</th>\n",
       "      <th>customer_id</th>\n",
       "      <th>product_id</th>\n",
       "      <th>qty</th>\n",
       "      <th>datetime</th>\n",
       "      <th>ecommerce_website_name</th>\n",
       "    </tr>\n",
       "  </thead>\n",
       "  <tbody>\n",
       "    <tr>\n",
       "      <th>0</th>\n",
       "      <td>1</td>\n",
       "      <td>1731</td>\n",
       "      <td>8609</td>\n",
       "      <td>25</td>\n",
       "      <td>2021-07-26 20:16:14</td>\n",
       "      <td>www.bestbuy.com</td>\n",
       "    </tr>\n",
       "    <tr>\n",
       "      <th>1</th>\n",
       "      <td>2</td>\n",
       "      <td>5539</td>\n",
       "      <td>2409</td>\n",
       "      <td>34</td>\n",
       "      <td>2021-08-25 03:41:32</td>\n",
       "      <td>www.flipkart.com</td>\n",
       "    </tr>\n",
       "    <tr>\n",
       "      <th>2</th>\n",
       "      <td>3</td>\n",
       "      <td>3507</td>\n",
       "      <td>1145</td>\n",
       "      <td>28</td>\n",
       "      <td>2024-06-21 21:39:21</td>\n",
       "      <td>www.target.com</td>\n",
       "    </tr>\n",
       "    <tr>\n",
       "      <th>3</th>\n",
       "      <td>4</td>\n",
       "      <td>4826</td>\n",
       "      <td>8375</td>\n",
       "      <td>33</td>\n",
       "      <td>2022-09-17 13:52:11</td>\n",
       "      <td>www.amazon.in</td>\n",
       "    </tr>\n",
       "    <tr>\n",
       "      <th>4</th>\n",
       "      <td>5</td>\n",
       "      <td>6538</td>\n",
       "      <td>2149</td>\n",
       "      <td>27</td>\n",
       "      <td>2022-03-09 07:58:08</td>\n",
       "      <td>www.etsy.com</td>\n",
       "    </tr>\n",
       "  </tbody>\n",
       "</table>\n",
       "</div>"
      ],
      "text/plain": [
       "   order_id  customer_id  product_id  qty            datetime  \\\n",
       "0         1         1731        8609   25 2021-07-26 20:16:14   \n",
       "1         2         5539        2409   34 2021-08-25 03:41:32   \n",
       "2         3         3507        1145   28 2024-06-21 21:39:21   \n",
       "3         4         4826        8375   33 2022-09-17 13:52:11   \n",
       "4         5         6538        2149   27 2022-03-09 07:58:08   \n",
       "\n",
       "  ecommerce_website_name  \n",
       "0        www.bestbuy.com  \n",
       "1       www.flipkart.com  \n",
       "2         www.target.com  \n",
       "3          www.amazon.in  \n",
       "4           www.etsy.com  "
      ]
     },
     "execution_count": 16,
     "metadata": {},
     "output_type": "execute_result"
    }
   ],
   "source": [
    "orders_table =transaction_df[[\"order_id\",\"customer_id\",\"product_id\",\"qty\",\"datetime\",\"ecommerce_website_name\"]]\n",
    "orders_table.head()"
   ]
  },
  {
   "cell_type": "code",
   "execution_count": 17,
   "id": "e9a75dff-8865-466a-b8b4-1da3fcff599c",
   "metadata": {},
   "outputs": [
    {
     "data": {
      "text/html": [
       "<div>\n",
       "<style scoped>\n",
       "    .dataframe tbody tr th:only-of-type {\n",
       "        vertical-align: middle;\n",
       "    }\n",
       "\n",
       "    .dataframe tbody tr th {\n",
       "        vertical-align: top;\n",
       "    }\n",
       "\n",
       "    .dataframe thead th {\n",
       "        text-align: right;\n",
       "    }\n",
       "</style>\n",
       "<table border=\"1\" class=\"dataframe\">\n",
       "  <thead>\n",
       "    <tr style=\"text-align: right;\">\n",
       "      <th></th>\n",
       "      <th>payment_txn_id</th>\n",
       "      <th>order_id</th>\n",
       "      <th>payment_type</th>\n",
       "      <th>payment_txn_success</th>\n",
       "      <th>failure_reason</th>\n",
       "    </tr>\n",
       "  </thead>\n",
       "  <tbody>\n",
       "    <tr>\n",
       "      <th>0</th>\n",
       "      <td>a395e8c7</td>\n",
       "      <td>1</td>\n",
       "      <td>Wallet</td>\n",
       "      <td>N</td>\n",
       "      <td>Card Expired</td>\n",
       "    </tr>\n",
       "    <tr>\n",
       "      <th>1</th>\n",
       "      <td>b40791f8</td>\n",
       "      <td>2</td>\n",
       "      <td>Card</td>\n",
       "      <td>N</td>\n",
       "      <td>Invalid CVV</td>\n",
       "    </tr>\n",
       "    <tr>\n",
       "      <th>2</th>\n",
       "      <td>7fb6cca9</td>\n",
       "      <td>3</td>\n",
       "      <td>Card</td>\n",
       "      <td>N</td>\n",
       "      <td>Blocked Card</td>\n",
       "    </tr>\n",
       "    <tr>\n",
       "      <th>3</th>\n",
       "      <td>cae677f3</td>\n",
       "      <td>4</td>\n",
       "      <td>Card</td>\n",
       "      <td>N</td>\n",
       "      <td>Transaction Timeout</td>\n",
       "    </tr>\n",
       "    <tr>\n",
       "      <th>4</th>\n",
       "      <td>fbce1649</td>\n",
       "      <td>5</td>\n",
       "      <td>Card</td>\n",
       "      <td>N</td>\n",
       "      <td>Invalid CVV</td>\n",
       "    </tr>\n",
       "  </tbody>\n",
       "</table>\n",
       "</div>"
      ],
      "text/plain": [
       "  payment_txn_id  order_id payment_type payment_txn_success  \\\n",
       "0       a395e8c7         1       Wallet                   N   \n",
       "1       b40791f8         2         Card                   N   \n",
       "2       7fb6cca9         3         Card                   N   \n",
       "3       cae677f3         4         Card                   N   \n",
       "4       fbce1649         5         Card                   N   \n",
       "\n",
       "        failure_reason  \n",
       "0         Card Expired  \n",
       "1          Invalid CVV  \n",
       "2         Blocked Card  \n",
       "3  Transaction Timeout  \n",
       "4          Invalid CVV  "
      ]
     },
     "execution_count": 17,
     "metadata": {},
     "output_type": "execute_result"
    }
   ],
   "source": [
    "payment_table = transaction_df[[\"payment_txn_id\",\"order_id\",\"payment_type\",\"payment_txn_success\",\"failure_reason\"]]\n",
    "payment_table.head()"
   ]
  },
  {
   "cell_type": "code",
   "execution_count": 18,
   "id": "8e4c7df3-8b60-4ff3-9af5-dbbed633e631",
   "metadata": {},
   "outputs": [
    {
     "data": {
      "text/html": [
       "<div>\n",
       "<style scoped>\n",
       "    .dataframe tbody tr th:only-of-type {\n",
       "        vertical-align: middle;\n",
       "    }\n",
       "\n",
       "    .dataframe tbody tr th {\n",
       "        vertical-align: top;\n",
       "    }\n",
       "\n",
       "    .dataframe thead th {\n",
       "        text-align: right;\n",
       "    }\n",
       "</style>\n",
       "<table border=\"1\" class=\"dataframe\">\n",
       "  <thead>\n",
       "    <tr style=\"text-align: right;\">\n",
       "      <th></th>\n",
       "      <th>product_id</th>\n",
       "      <th>product_name</th>\n",
       "      <th>product_category</th>\n",
       "      <th>price</th>\n",
       "    </tr>\n",
       "  </thead>\n",
       "  <tbody>\n",
       "    <tr>\n",
       "      <th>0</th>\n",
       "      <td>8609</td>\n",
       "      <td>Central home &amp; kitche</td>\n",
       "      <td>Home &amp; Kitchen</td>\n",
       "      <td>64216</td>\n",
       "    </tr>\n",
       "    <tr>\n",
       "      <th>1</th>\n",
       "      <td>2409</td>\n",
       "      <td>Upon sport</td>\n",
       "      <td>Sports</td>\n",
       "      <td>69877</td>\n",
       "    </tr>\n",
       "    <tr>\n",
       "      <th>2</th>\n",
       "      <td>1145</td>\n",
       "      <td>Across stationer</td>\n",
       "      <td>Stationery</td>\n",
       "      <td>35491</td>\n",
       "    </tr>\n",
       "    <tr>\n",
       "      <th>3</th>\n",
       "      <td>8375</td>\n",
       "      <td>Start home &amp; kitche</td>\n",
       "      <td>Home &amp; Kitchen</td>\n",
       "      <td>39540</td>\n",
       "    </tr>\n",
       "    <tr>\n",
       "      <th>4</th>\n",
       "      <td>2149</td>\n",
       "      <td>Draw beaut</td>\n",
       "      <td>Beauty</td>\n",
       "      <td>80635</td>\n",
       "    </tr>\n",
       "  </tbody>\n",
       "</table>\n",
       "</div>"
      ],
      "text/plain": [
       "   product_id           product_name product_category  price\n",
       "0        8609  Central home & kitche   Home & Kitchen  64216\n",
       "1        2409             Upon sport           Sports  69877\n",
       "2        1145       Across stationer       Stationery  35491\n",
       "3        8375    Start home & kitche   Home & Kitchen  39540\n",
       "4        2149             Draw beaut           Beauty  80635"
      ]
     },
     "execution_count": 18,
     "metadata": {},
     "output_type": "execute_result"
    }
   ],
   "source": [
    "product_table = transaction_df[[\"product_id\",\"product_name\",\"product_category\",\"price\"]]\n",
    "product_table.head()"
   ]
  },
  {
   "cell_type": "code",
   "execution_count": 19,
   "id": "477ec357-d486-4950-8c66-b74e8934153b",
   "metadata": {},
   "outputs": [
    {
     "data": {
      "text/html": [
       "<div>\n",
       "<style scoped>\n",
       "    .dataframe tbody tr th:only-of-type {\n",
       "        vertical-align: middle;\n",
       "    }\n",
       "\n",
       "    .dataframe tbody tr th {\n",
       "        vertical-align: top;\n",
       "    }\n",
       "\n",
       "    .dataframe thead th {\n",
       "        text-align: right;\n",
       "    }\n",
       "</style>\n",
       "<table border=\"1\" class=\"dataframe\">\n",
       "  <thead>\n",
       "    <tr style=\"text-align: right;\">\n",
       "      <th></th>\n",
       "      <th>ecommerce_website_name</th>\n",
       "    </tr>\n",
       "  </thead>\n",
       "  <tbody>\n",
       "    <tr>\n",
       "      <th>0</th>\n",
       "      <td>www.bestbuy.com</td>\n",
       "    </tr>\n",
       "    <tr>\n",
       "      <th>1</th>\n",
       "      <td>www.flipkart.com</td>\n",
       "    </tr>\n",
       "    <tr>\n",
       "      <th>2</th>\n",
       "      <td>www.target.com</td>\n",
       "    </tr>\n",
       "    <tr>\n",
       "      <th>3</th>\n",
       "      <td>www.amazon.in</td>\n",
       "    </tr>\n",
       "    <tr>\n",
       "      <th>4</th>\n",
       "      <td>www.etsy.com</td>\n",
       "    </tr>\n",
       "  </tbody>\n",
       "</table>\n",
       "</div>"
      ],
      "text/plain": [
       "  ecommerce_website_name\n",
       "0        www.bestbuy.com\n",
       "1       www.flipkart.com\n",
       "2         www.target.com\n",
       "3          www.amazon.in\n",
       "4           www.etsy.com"
      ]
     },
     "execution_count": 19,
     "metadata": {},
     "output_type": "execute_result"
    }
   ],
   "source": [
    "EcommerceWebsite_table = transaction_df[[\"ecommerce_website_name\"]]\n",
    "EcommerceWebsite_table.head()"
   ]
  },
  {
   "cell_type": "code",
   "execution_count": 20,
   "id": "f9e3f700-2cd2-4602-86cd-0e8f66589b7a",
   "metadata": {},
   "outputs": [],
   "source": [
    "product_table_create = \"\"\" CREATE TABLE IF NOT EXISTS Product (\n",
    "    product_id INT PRIMARY KEY,\n",
    "    product_name VARCHAR(255),\n",
    "    product_category VARCHAR(100),\n",
    "    price DECIMAL(10, 2)\n",
    ");\"\"\"\n",
    "\n",
    "curr.execute(product_table_create)\n",
    "conn.commit()"
   ]
  },
  {
   "cell_type": "code",
   "execution_count": 21,
   "id": "218a6f63-fc45-4e8a-ae43-138cdc127bb4",
   "metadata": {},
   "outputs": [],
   "source": [
    "product_insert_query = \"\"\"\n",
    "    INSERT INTO Product (product_id, product_name, product_category, price)\n",
    "    VALUES (%s, %s, %s, %s);\n",
    "\"\"\"\n",
    "product_table = product_table.drop_duplicates(subset=['product_id'])\n",
    "for i,row in product_table.iterrows():\n",
    "    curr.execute(product_insert_query,list(row))\n",
    "conn.commit()"
   ]
  },
  {
   "cell_type": "code",
   "execution_count": 22,
   "id": "e33660ad-1499-4919-8136-00b593f5ad71",
   "metadata": {},
   "outputs": [],
   "source": [
    "Ecommerc_table_create = \"\"\"  CREATE TABLE IF NOT EXISTS EcommerceWebsite (\n",
    "    website_id INT PRIMARY KEY AUTO_INCREMENT,\n",
    "    ecommerce_website_name VARCHAR(255) UNIQUE\n",
    ");\"\"\"\n",
    "curr.execute(Ecommerc_table_create)\n",
    "conn.commit()"
   ]
  },
  {
   "cell_type": "code",
   "execution_count": 23,
   "id": "83d73900-baaf-4f0f-bf86-92d5ff5e03e4",
   "metadata": {},
   "outputs": [],
   "source": [
    "ecommerce_insert_query = \"\"\"\n",
    "    INSERT INTO EcommerceWebsite (ecommerce_website_name)\n",
    "    VALUES (%s);\n",
    "\"\"\"\n",
    "EcommerceWebsite_table = EcommerceWebsite_table.drop_duplicates()\n",
    "for i,row in EcommerceWebsite_table.iterrows():\n",
    "    curr.execute(ecommerce_insert_query,list(row))\n",
    "conn.commit()"
   ]
  },
  {
   "cell_type": "code",
   "execution_count": 24,
   "id": "2a3d156e-51ff-4933-91c3-9fbd84581de7",
   "metadata": {},
   "outputs": [],
   "source": [
    "order_table_create = \"\"\"\n",
    "CREATE TABLE IF NOT EXISTS Orders (\n",
    "    order_id INT PRIMARY KEY,\n",
    "    customer_id INT,\n",
    "    product_id INT,\n",
    "    qty INT,\n",
    "    datetime TEXT,\n",
    "    ecommerce_website_name VARCHAR(255),\n",
    "    FOREIGN KEY (customer_id) REFERENCES Customer(customer_id),\n",
    "    FOREIGN KEY (product_id) REFERENCES Product(product_id),\n",
    "    FOREIGN KEY (ecommerce_website_name) REFERENCES EcommerceWebsite(ecommerce_website_name)\n",
    ");\"\"\"\n",
    "curr.execute(order_table_create)\n",
    "conn.commit()"
   ]
  },
  {
   "cell_type": "code",
   "execution_count": 25,
   "id": "f718b844-64f5-419e-ae78-1da1d3ff1230",
   "metadata": {},
   "outputs": [],
   "source": [
    "order_insert_query = \"\"\"\n",
    "    INSERT INTO Orders (order_id, customer_id, product_id, qty, datetime,ecommerce_website_name)\n",
    "    VALUES (%s, %s, %s, %s, %s, %s);\n",
    "\"\"\"\n",
    "for i,row in orders_table.iterrows():\n",
    "     curr.execute(order_insert_query,list(row))\n",
    "conn.commit()"
   ]
  },
  {
   "cell_type": "code",
   "execution_count": 26,
   "id": "0910fc9f-2e83-4584-8313-53a5a2cf2178",
   "metadata": {},
   "outputs": [],
   "source": [
    "payment_table_create =\"\"\" Create Table IF NOT EXISTS  Payment (\n",
    "    payment_txn_id VARCHAR(255) PRIMARY KEY,\n",
    "    order_id INT,\n",
    "    payment_type VARCHAR(50),\n",
    "    payment_txn_success CHAR(1),\n",
    "    failure_reason VARCHAR(255),\n",
    "    FOREIGN KEY (order_id) REFERENCES Orders(order_id)\n",
    ");\"\"\"\n",
    "curr.execute(payment_table_create)\n",
    "conn.commit()"
   ]
  },
  {
   "cell_type": "code",
   "execution_count": 27,
   "id": "c2fb7e62-3e7d-4889-85c8-c8c35063b5e4",
   "metadata": {},
   "outputs": [],
   "source": [
    "payment_insert_query = \"\"\"\n",
    "    INSERT INTO Payment (payment_txn_id, order_id, payment_type, payment_txn_success, failure_reason)\n",
    "    VALUES (%s, %s, %s, %s, %s);\n",
    "\"\"\"\n",
    "for i,row in payment_table.iterrows():\n",
    "     curr.execute(payment_insert_query,list(row))\n",
    "conn.commit()"
   ]
  },
  {
   "cell_type": "code",
   "execution_count": 35,
   "id": "0e36811f-da1a-4fbb-8a17-4086ef84ce71",
   "metadata": {},
   "outputs": [
    {
     "name": "stdout",
     "output_type": "stream",
     "text": [
      "(109, 'Joseph Martin', 'Somalia', 'Port Vickiemouth', 5089, 5429, 1, '2023-11-24 15:38:59', 'www.bestbuy.com')\n",
      "(144, 'Robert Reeves', 'Wallis and Futuna', 'Lake Jason', 218, 2190, 41, '2024-03-16 10:10:45', 'www.tatacliq.com')\n",
      "(144, 'Robert Reeves', 'Wallis and Futuna', 'Lake Jason', 589, 1406, 33, '2024-02-23 12:51:47', 'www.flipkart.com')\n",
      "(144, 'Robert Reeves', 'Wallis and Futuna', 'Lake Jason', 1336, 8087, 45, '2023-07-26 06:26:01', 'www.etsy.com')\n",
      "(144, 'Robert Reeves', 'Wallis and Futuna', 'Lake Jason', 1945, 5210, 27, '2024-01-21 00:36:40', 'www.etsy.com')\n"
     ]
    }
   ],
   "source": [
    "# Query 1: Validate Customer and Orders\n",
    "curr.execute(\"\"\"\n",
    "    SELECT \n",
    "        c.customer_id, \n",
    "        c.customer_name, \n",
    "        c.country, \n",
    "        c.city, \n",
    "        o.order_id, \n",
    "        o.product_id, \n",
    "        o.qty, \n",
    "        o.datetime, \n",
    "        o.ecommerce_website_name\n",
    "    FROM \n",
    "        Customer c\n",
    "    JOIN \n",
    "        Orders o\n",
    "    ON \n",
    "        c.customer_id = o.customer_id\n",
    "    ORDER BY \n",
    "        c.customer_id, o.order_id \n",
    "        limit 5;\n",
    "\"\"\")\n",
    "customer_orders = curr.fetchall()\n",
    "for record in customer_orders:\n",
    "    print(record)\n",
    "\n"
   ]
  },
  {
   "cell_type": "code",
   "execution_count": 37,
   "id": "d8d342b0-f1f3-4a1a-9e8f-f0c17862b081",
   "metadata": {},
   "outputs": [
    {
     "name": "stdout",
     "output_type": "stream",
     "text": [
      "('00028b2b', 3406, 7722, 8701, 28, '2021-09-10 04:42:03', 'Wallet', 'N', 'Invalid CVV')\n",
      "('000371fc', 4060, 7489, 8374, 19, '2024-02-23 05:58:06', 'Wallet', 'Y', '')\n",
      "('0009553e', 1445, 3766, 3913, 27, '2021-10-02 12:42:46', 'Wallet', 'Y', '')\n",
      "('00182d3e', 2906, 2731, 7727, 44, '2024-01-04 18:22:51', 'Wallet', 'Y', '')\n",
      "('001f5dec', 4933, 8427, 8840, 1, '2023-04-07 15:24:45', 'Wallet', 'N', 'Transaction Timeout')\n"
     ]
    }
   ],
   "source": [
    "# Query 2: Validate Payment Data\n",
    "curr.execute(\"\"\"\n",
    "    SELECT \n",
    "        p.payment_txn_id, \n",
    "        p.order_id, \n",
    "        o.customer_id, \n",
    "        o.product_id, \n",
    "        o.qty, \n",
    "        o.datetime, \n",
    "        p.payment_type, \n",
    "        p.payment_txn_success, \n",
    "        p.failure_reason\n",
    "    FROM \n",
    "        Payment p\n",
    "    JOIN \n",
    "        Orders o\n",
    "    ON \n",
    "        p.order_id = o.order_id\n",
    "    ORDER BY \n",
    "        p.payment_txn_id \n",
    "        limit 5;\n",
    "\"\"\")\n",
    "payment_data = curr.fetchall()\n",
    "for record in payment_data:\n",
    "    print(record)\n"
   ]
  },
  {
   "cell_type": "code",
   "execution_count": 30,
   "id": "8d9b0e66-9ac6-4f57-9041-32ebc799953a",
   "metadata": {},
   "outputs": [
    {
     "name": "stdout",
     "output_type": "stream",
     "text": [
      "(8507, 'She book', 'Books', Decimal('158'), Decimal('13774598.00'))\n",
      "(4876, 'High electronic', 'Electronics', Decimal('133'), Decimal('13213284.00'))\n",
      "(4768, 'Lay book', 'Books', Decimal('139'), Decimal('13097553.00'))\n",
      "(2897, 'Bed clothin', 'Clothing', Decimal('141'), Decimal('12696063.00'))\n",
      "(710, 'Bag clothin', 'Clothing', Decimal('127'), Decimal('12597257.00'))\n"
     ]
    }
   ],
   "source": [
    "# Query 3: Validate and Summarize Product Sales\n",
    "curr.execute(\"\"\"\n",
    "    SELECT \n",
    "        p.product_id, \n",
    "        p.product_name, \n",
    "        p.product_category, \n",
    "        SUM(o.qty) AS total_quantity_sold, \n",
    "        SUM(o.qty * p.price) AS total_revenue\n",
    "    FROM \n",
    "        Orders o\n",
    "    JOIN \n",
    "        Product p\n",
    "    ON \n",
    "        o.product_id = p.product_id\n",
    "    GROUP BY \n",
    "        p.product_id, p.product_name, p.product_category\n",
    "    ORDER BY \n",
    "        total_revenue DESC\n",
    "        limit 5;\n",
    "\"\"\")\n",
    "product_sales = curr.fetchall()\n",
    "for record in product_sales:\n",
    "    print(record)\n"
   ]
  },
  {
   "cell_type": "code",
   "execution_count": 31,
   "id": "94332ab4-598b-4fb7-8c03-72aa9f3eab86",
   "metadata": {},
   "outputs": [
    {
     "data": {
      "image/png": "[encoded data removed]",
      "text/plain": [
       "<Figure size 1000x600 with 1 Axes>"
      ]
     },
     "metadata": {},
     "output_type": "display_data"
    }
   ],
   "source": [
    "import matplotlib.pyplot as plt\n",
    "\n",
    "# Assuming you have executed the product_sales query and fetched the results\n",
    "# Let's convert the fetched results into a DataFrame for easier manipulation\n",
    "\n",
    "product_sales_df = pd.DataFrame(product_sales, columns=['Product ID', 'Product Name', 'Category', 'Total Quantity Sold', 'Total Revenue'])\n",
    "\n",
    "# Sorting the DataFrame by Total Revenue for better visualization\n",
    "product_sales_df = product_sales_df.sort_values(by='Total Revenue', ascending=False)\n",
    "\n",
    "# Plotting total revenue by product\n",
    "plt.figure(figsize=(10, 6))\n",
    "plt.bar(product_sales_df['Product Name'], product_sales_df['Total Revenue'], color='skyblue')\n",
    "plt.xticks(rotation=45, ha='right')\n",
    "plt.title('Total Revenue by Product')\n",
    "plt.xlabel('Product Name')\n",
    "plt.ylabel('Total Revenue')\n",
    "plt.tight_layout()\n",
    "plt.show()\n"
   ]
  },
  {
   "cell_type": "code",
   "execution_count": 32,
   "id": "38cf732d-2a38-4951-b3f0-cc61e1bd879d",
   "metadata": {},
   "outputs": [
    {
     "name": "stdout",
     "output_type": "stream",
     "text": [
      "('www.etsy.com', 1045)\n",
      "('www.alibaba.com', 1040)\n",
      "('www.flipkart.com', 1024)\n",
      "('www.amazon.in', 1023)\n",
      "('www.walmart.com', 1016)\n"
     ]
    }
   ],
   "source": [
    "\n",
    "# Query 4: Validate E-commerce Website Usage\n",
    "curr.execute(\"\"\"\n",
    "    SELECT \n",
    "        e.ecommerce_website_name, \n",
    "        COUNT(o.order_id) AS total_orders\n",
    "    FROM \n",
    "        Orders o\n",
    "    JOIN \n",
    "        EcommerceWebsite e\n",
    "    ON \n",
    "        o.ecommerce_website_name = e.ecommerce_website_name\n",
    "    GROUP BY \n",
    "        e.ecommerce_website_name\n",
    "    ORDER BY \n",
    "        total_orders DESC\n",
    "        limit 5;\n",
    "\"\"\")\n",
    "website_usage = curr.fetchall()\n",
    "for record in website_usage:\n",
    "    print(record)\n"
   ]
  },
  {
   "cell_type": "code",
   "execution_count": 33,
   "id": "9a3bd6a5-8e91-4a41-b727-f745c953723c",
   "metadata": {},
   "outputs": [
    {
     "data": {
      "image/png": "[encoded data removed]",
      "text/plain": [
       "<Figure size 1000x600 with 1 Axes>"
      ]
     },
     "metadata": {},
     "output_type": "display_data"
    }
   ],
   "source": [
    "# Assuming you have executed the website_usage query and fetched the results\n",
    "# Let's convert the fetched results into a DataFrame for easier manipulation\n",
    "\n",
    "website_usage_df = pd.DataFrame(website_usage, columns=['E-commerce Website', 'Total Orders'])\n",
    "\n",
    "# Sorting the DataFrame by Total Orders for better visualization\n",
    "website_usage_df = website_usage_df.sort_values(by='Total Orders', ascending=False)\n",
    "\n",
    "# Plotting total orders by e-commerce website\n",
    "plt.figure(figsize=(10, 6))\n",
    "plt.bar(website_usage_df['E-commerce Website'], website_usage_df['Total Orders'], color='lightcoral')\n",
    "plt.xticks(rotation=45, ha='right')\n",
    "plt.title('Total Orders by E-commerce Website')\n",
    "plt.xlabel('E-commerce Website')\n",
    "plt.ylabel('Total Orders')\n",
    "plt.tight_layout()\n",
    "plt.show()\n"
   ]
  },
  {
   "cell_type": "code",
   "execution_count": null,
   "id": "742accf7-47f7-43e5-b90d-ab826649e992",
   "metadata": {},
   "outputs": [],
   "source": []
  }
 ],
 "metadata": {
  "kernelspec": {
   "display_name": "Python 3 (ipykernel)",
   "language": "python",
   "name": "python3"
  },
  "language_info": {
   "codemirror_mode": {
    "name": "ipython",
    "version": 3
   },
   "file_extension": ".py",
   "mimetype": "text/x-python",
   "name": "python",
   "nbconvert_exporter": "python",
   "pygments_lexer": "ipython3",
   "version": "3.10.1"
  }
 },
 "nbformat": 4,
 "nbformat_minor": 5
}
